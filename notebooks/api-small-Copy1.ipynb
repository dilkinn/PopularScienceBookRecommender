{
 "cells": [
  {
   "cell_type": "code",
   "execution_count": 1,
   "metadata": {},
   "outputs": [],
   "source": [
    "import numpy as np\n",
    "import pandas as pd\n",
    "import goodreads_api_client as gr\n",
    "from bs4 import BeautifulSoup as bs\n",
    "from bs4 import BeautifulSoup\n",
    "import requests as req\n",
    "import requests\n",
    "\n",
    "from urllib.request import urlopen\n",
    "import re\n",
    "\n",
    "import time\n",
    "import sys"
   ]
  },
  {
   "cell_type": "code",
   "execution_count": 53,
   "metadata": {},
   "outputs": [],
   "source": [
    "from selenium import webdriver\n",
    "from selenium.webdriver.common.keys import Keys"
   ]
  },
  {
   "cell_type": "markdown",
   "metadata": {},
   "source": [
    "### Getting books and reviews directly from goodreads."
   ]
  },
  {
   "cell_type": "code",
   "execution_count": 2,
   "metadata": {},
   "outputs": [],
   "source": [
    "from importlib import reload  \n",
    "import src.helper_functions as hf \n",
    "hf = reload(hf)"
   ]
  },
  {
   "cell_type": "code",
   "execution_count": 202,
   "metadata": {},
   "outputs": [],
   "source": [
    "# b_links = []\n",
    "\n",
    "# page = pages[25]\n",
    "# r = requests.get(page)\n",
    "# soup = bs(r.content, 'html')\n",
    "# divs = soup.find_all('div', {\"class\": \"elementList\"})[:50]\n",
    "# links_for_books = ['http://goodreads.com/' + divs[i].find_all(\"a\", {'class':\"bookTitle\"})[0].get('href') for i in range(50)]\n",
    "# b_links.extend(links_for_books)\n"
   ]
  },
  {
   "cell_type": "code",
   "execution_count": 78,
   "metadata": {},
   "outputs": [],
   "source": [
    "popular_science_link = 'https://www.goodreads.com/shelf/show/popular-science?page=1'\n",
    "pages = [f'https://www.goodreads.com/shelf/show/popular-science?page={x}' for x in range(1, 26)]"
   ]
  },
  {
   "cell_type": "code",
   "execution_count": 79,
   "metadata": {
    "collapsed": true,
    "jupyter": {
     "outputs_hidden": true
    }
   },
   "outputs": [
    {
     "data": {
      "text/plain": [
       "['https://www.goodreads.com/shelf/show/popular-science?page=1',\n",
       " 'https://www.goodreads.com/shelf/show/popular-science?page=2',\n",
       " 'https://www.goodreads.com/shelf/show/popular-science?page=3',\n",
       " 'https://www.goodreads.com/shelf/show/popular-science?page=4',\n",
       " 'https://www.goodreads.com/shelf/show/popular-science?page=5',\n",
       " 'https://www.goodreads.com/shelf/show/popular-science?page=6',\n",
       " 'https://www.goodreads.com/shelf/show/popular-science?page=7',\n",
       " 'https://www.goodreads.com/shelf/show/popular-science?page=8',\n",
       " 'https://www.goodreads.com/shelf/show/popular-science?page=9',\n",
       " 'https://www.goodreads.com/shelf/show/popular-science?page=10',\n",
       " 'https://www.goodreads.com/shelf/show/popular-science?page=11',\n",
       " 'https://www.goodreads.com/shelf/show/popular-science?page=12',\n",
       " 'https://www.goodreads.com/shelf/show/popular-science?page=13',\n",
       " 'https://www.goodreads.com/shelf/show/popular-science?page=14',\n",
       " 'https://www.goodreads.com/shelf/show/popular-science?page=15',\n",
       " 'https://www.goodreads.com/shelf/show/popular-science?page=16',\n",
       " 'https://www.goodreads.com/shelf/show/popular-science?page=17',\n",
       " 'https://www.goodreads.com/shelf/show/popular-science?page=18',\n",
       " 'https://www.goodreads.com/shelf/show/popular-science?page=19',\n",
       " 'https://www.goodreads.com/shelf/show/popular-science?page=20',\n",
       " 'https://www.goodreads.com/shelf/show/popular-science?page=21',\n",
       " 'https://www.goodreads.com/shelf/show/popular-science?page=22',\n",
       " 'https://www.goodreads.com/shelf/show/popular-science?page=23',\n",
       " 'https://www.goodreads.com/shelf/show/popular-science?page=24',\n",
       " 'https://www.goodreads.com/shelf/show/popular-science?page=25']"
      ]
     },
     "execution_count": 79,
     "metadata": {},
     "output_type": "execute_result"
    }
   ],
   "source": [
    "pages"
   ]
  },
  {
   "cell_type": "code",
   "execution_count": 149,
   "metadata": {},
   "outputs": [],
   "source": [
    "def gr_sign_in(driver):\n",
    "    login_page = 'https://www.goodreads.com'\n",
    "    driver.get(login_page)\n",
    "\n",
    "    username = driver.find_element_by_id(\"userSignInFormEmail\")\n",
    "    username.clear()\n",
    "    username.send_keys(\"dilkinn@gmail.com\")\n",
    "    time.sleep(1)\n",
    "\n",
    "    password = driver.find_element_by_name(\"user[password]\")\n",
    "    password.clear()\n",
    "    password.send_keys(\"pa4a4ok73\")\n",
    "    time.sleep(1)\n",
    "\n",
    "    driver.find_element_by_xpath(\"//input[contains(@value,'Sign in')]\").click()\n",
    "    time.sleep(1)\n",
    "    return driver"
   ]
  },
  {
   "cell_type": "code",
   "execution_count": 150,
   "metadata": {},
   "outputs": [],
   "source": [
    "## book_links\n",
    "\n",
    "def scrap_book_links(page1):\n",
    "    driver = webdriver.Chrome('chromedriver')\n",
    "    driver = gr_sign_in(driver)\n",
    "    arr_all = []\n",
    "    \n",
    "    driver.get(page1)\n",
    "    time.sleep(1)\n",
    "    html = driver.page_source\n",
    "    soup = bs(html, 'html.parser')\n",
    "    \n",
    "    arr = get_book_links_from_soup(soup)\n",
    "    arr_all.extend(arr)\n",
    "    \n",
    "    while True:\n",
    "        try:\n",
    "            print(\"next_page\")\n",
    "            driver.find_element_by_xpath(\"//a[contains(@rel,'next')]\").click()\n",
    "            time.sleep(1)\n",
    "            html = driver.page_source\n",
    "            soup = bs(html, 'html.parser')\n",
    "            arr = get_book_links_from_soup(soup)\n",
    "            arr_all.extend(arr)           \n",
    "        except:\n",
    "            driver.close()\n",
    "            break\n",
    "            \n",
    "    print(len(arr_all))\n",
    "    np.array(arr_all)\n",
    "    df = pd.DataFrame(arr_all)\n",
    "    df.to_csv(f'../data/book_links_goodreads.csv')\n",
    "    return df\n",
    "\n",
    "def get_book_links_from_soup(soup):\n",
    "    b_links = []\n",
    "    divs = soup.find_all('a', {\"class\": \"leftAlignedImage\"})\n",
    "    for div in divs:\n",
    "        b_links.append('http://goodreads.com' + div.get('href'))\n",
    "    return b_links"
   ]
  },
  {
   "cell_type": "code",
   "execution_count": 151,
   "metadata": {
    "collapsed": true,
    "jupyter": {
     "outputs_hidden": true
    }
   },
   "outputs": [
    {
     "name": "stdout",
     "output_type": "stream",
     "text": [
      "next_page\n",
      "next_page\n",
      "next_page\n",
      "next_page\n",
      "next_page\n",
      "next_page\n",
      "next_page\n",
      "next_page\n",
      "next_page\n",
      "next_page\n",
      "next_page\n",
      "next_page\n",
      "next_page\n",
      "next_page\n",
      "next_page\n",
      "next_page\n",
      "next_page\n",
      "next_page\n",
      "next_page\n",
      "next_page\n",
      "next_page\n",
      "next_page\n",
      "next_page\n",
      "next_page\n",
      "next_page\n",
      "1291\n"
     ]
    }
   ],
   "source": [
    "popular_science_link = 'https://www.goodreads.com/shelf/show/popular-science'\n",
    "book_links_df = scrap_book_links(popular_science_link)"
   ]
  },
  {
   "cell_type": "code",
   "execution_count": 155,
   "metadata": {},
   "outputs": [],
   "source": [
    "b_l = list(book_links_df[0])"
   ]
  },
  {
   "cell_type": "code",
   "execution_count": 156,
   "metadata": {},
   "outputs": [
    {
     "data": {
      "text/plain": [
       "'http://goodreads.com/book/show/3869.A_Brief_History_of_Time'"
      ]
     },
     "execution_count": 156,
     "metadata": {},
     "output_type": "execute_result"
    }
   ],
   "source": [
    "b_l[0]"
   ]
  },
  {
   "cell_type": "markdown",
   "metadata": {},
   "source": [
    "# Get information about the books"
   ]
  },
  {
   "cell_type": "code",
   "execution_count": 158,
   "metadata": {},
   "outputs": [],
   "source": [
    "def get_the_soup(book_link):\n",
    "    driver = webdriver.Chrome('chromedriver')\n",
    "    driver = gr_sign_in(driver)\n",
    "    driver.get(book_link)\n",
    "    soup = bs(driver.page_source, 'html.parser')\n",
    "    driver.close()\n",
    "    return soup\n",
    "\n",
    "def get_book_info(book_link, soup):\n",
    "    isbn_str = soup.find_all('div',{\"class\":\"infoBoxRowItem\"})[1].get_text()\n",
    "\n",
    "    isbn_str = isbn_str.replace('\\n', '')\n",
    "    isbn_str = isbn_str.replace('(', '')\n",
    "    isbn_str = isbn_str.replace(')', '')\n",
    "    isbn, isbn13 = isbn_str.strip().split()[0], isbn_str.strip().split()[2]\n",
    "\n",
    "    title_str = soup.find_all('h1',{\"id\":\"bookTitle\"})[0].get_text()\n",
    "    title_str = title_str.replace('\\n', \"\").strip()\n",
    "\n",
    "    original_title = soup.find_all('div',{\"id\":\"bookDataBox\"})[0].find_all('div',{'class':'infoBoxRowItem'})[0].get_text()\n",
    "\n",
    "    avg_rating = soup.find_all('span',{\"itemprop\":\"ratingValue\"})[0].get_text()\n",
    "    avg_rating = avg_rating.replace('\\n', '').strip()\n",
    "    avg_rating = float(avg_rating)\n",
    "\n",
    "    author_link = soup.find_all('a',{\"class\":\"authorName\"})[0].get('href')\n",
    "    spans = soup.find_all('a',{\"class\":\"authorName\"})[0].find_all('span',{'itemprop':'name'})\n",
    "\n",
    "    authors_names = []\n",
    "    for span in spans:\n",
    "        authors_names.append(span.get_text())\n",
    "    authors_names\n",
    "\n",
    "    book_description = soup.find_all('div',{\"id\":\"description\"})[0].find_all('span')[1].get_text()\n",
    "    \n",
    "    dct = {'book_link': book_link, 'isbn': isbn, 'isbn13': isbn13, \n",
    "          'book_title' : title_str, 'original_title' : original_title,\n",
    "          'avg_rating' : avg_rating, 'author_link': author_link,\n",
    "          'author_names': authors_names, 'book_description': book_description}\n",
    "    \n",
    "    return dct"
   ]
  },
  {
   "cell_type": "code",
   "execution_count": 159,
   "metadata": {},
   "outputs": [],
   "source": [
    "def get_reviews_array_from_soup(soup):\n",
    "    arr = []\n",
    "    divs = soup.find_all('div',{\"id\":\"bookReviews\"})[0].find_all('div',{'class':'friendReviews elementListBrown'})\n",
    "    \n",
    "    for div in divs:\n",
    "        user_link = 'http://goodreads.com' + div.find_all('span',{'itemprop':'author'})[0].find('a').get('href')\n",
    "        ranking = len(div.find_all('span', {'class':'staticStar p10'}))\n",
    "        try:\n",
    "            review = div.find_all('div', {'class':'reviewText stacked'})[0].find_all('span',{'class':\"readable\"})[0].find_all('span')[1].get_text()\n",
    "        except:\n",
    "            review = div.find_all('div', {'class':'reviewText stacked'})[0].find_all('span',{'class':\"readable\"})[0].find_all('span')[0].get_text()\n",
    "        dct = {\"isbn\":isbn, 'user_link': user_link, 'ranking':ranking, \"review\": review}\n",
    "        arr.append(dct)\n",
    "    return arr\n",
    "\n",
    "def get_reviews_from_book_link(isbn, b_l):\n",
    "    driver = webdriver.Chrome('chromedriver')\n",
    "    driver = gr_sign_in(driver)\n",
    "    arr_all = []\n",
    "    \n",
    "    driver.get(b_l)\n",
    "    time.sleep(1)\n",
    "    html = driver.page_source\n",
    "    soup = bs(html, 'html.parser')\n",
    "    \n",
    "    arr = get_reviews_array_from_soup(soup)\n",
    "    arr_all.extend(arr)\n",
    "    \n",
    "    while True:\n",
    "        try:\n",
    "            driver.find_element_by_xpath(\"//a[contains(@rel,'next')]\").click()\n",
    "            time.sleep(1)\n",
    "            html = driver.page_source\n",
    "            soup = bs(html, 'html.parser')\n",
    "            arr = get_reviews_array_from_soup(soup)\n",
    "            arr_all.extend(arr)           \n",
    "        except:\n",
    "            driver.close()\n",
    "            break\n",
    "            \n",
    "    print(len(arr_all))\n",
    "    df = pd.DataFrame(arr_all)\n",
    "    df.to_csv(f'../data/revs_{isbn}.csv')\n",
    "    return df"
   ]
  },
  {
   "cell_type": "code",
   "execution_count": 163,
   "metadata": {},
   "outputs": [
    {
     "data": {
      "text/plain": [
       "1291"
      ]
     },
     "execution_count": 163,
     "metadata": {},
     "output_type": "execute_result"
    }
   ],
   "source": [
    "len(b_l)"
   ]
  },
  {
   "cell_type": "code",
   "execution_count": 165,
   "metadata": {},
   "outputs": [
    {
     "name": "stdout",
     "output_type": "stream",
     "text": [
      "0\n",
      "100\n",
      "200\n",
      "300\n",
      "400\n",
      "500\n",
      "600\n",
      "700\n",
      "800\n",
      "900\n",
      "1000\n",
      "1100\n"
     ]
    }
   ],
   "source": [
    "for i in range(0,1200,100):\n",
    "    print(i)"
   ]
  },
  {
   "cell_type": "code",
   "execution_count": null,
   "metadata": {},
   "outputs": [
    {
     "name": "stdout",
     "output_type": "stream",
     "text": [
      "book n : 0\n",
      "book n : 1\n",
      "book n : 2\n",
      "book n : 3\n",
      "book n : 4\n",
      "570\n",
      "book n : 5\n",
      "book n : 6\n"
     ]
    }
   ],
   "source": [
    "books_arr = []\n",
    "failed_books_list = []\n",
    "for n in range(0, 1200, 100):\n",
    "    for i, book_l in enumerate(b_l[n:n+100]):\n",
    "        sys.stdout.write(\"\\r\" + f'book n : {i}\\n')\n",
    "        sys.stdout.flush()\n",
    "        try:\n",
    "            soup = get_the_soup(book_l)\n",
    "            dct = get_book_info(book_l, soup)\n",
    "            isbn = dct['isbn']\n",
    "            if len(isbn) == 10:\n",
    "                reviews = get_reviews_from_book_link(isbn,book_l)\n",
    "                books_arr.append(dct)\n",
    "                df = pd.DataFrame(books_arr)\n",
    "                df.to_csv(f'../data/gr_books_df_{n}.csv')\n",
    "            else:\n",
    "                failed_books_list.append(bool_l)\n",
    "        except:\n",
    "            failed_books_list.append(book_l)\n",
    "            continue"
   ]
  },
  {
   "cell_type": "code",
   "execution_count": 161,
   "metadata": {},
   "outputs": [],
   "source": [
    "# selenium"
   ]
  },
  {
   "cell_type": "code",
   "execution_count": 51,
   "metadata": {},
   "outputs": [],
   "source": [
    "driver.close()"
   ]
  },
  {
   "cell_type": "code",
   "execution_count": 66,
   "metadata": {},
   "outputs": [],
   "source": [
    "l = []\n",
    "l.extend(['ds','sd','f'])"
   ]
  },
  {
   "cell_type": "code",
   "execution_count": 67,
   "metadata": {},
   "outputs": [
    {
     "data": {
      "text/plain": [
       "['ds', 'sd', 'f']"
      ]
     },
     "execution_count": 67,
     "metadata": {},
     "output_type": "execute_result"
    }
   ],
   "source": [
    "l"
   ]
  },
  {
   "cell_type": "code",
   "execution_count": 75,
   "metadata": {},
   "outputs": [
    {
     "data": {
      "text/plain": [
       "150"
      ]
     },
     "execution_count": 75,
     "metadata": {},
     "output_type": "execute_result"
    }
   ],
   "source": [
    "len(failed_books_list)"
   ]
  },
  {
   "cell_type": "code",
   "execution_count": 76,
   "metadata": {},
   "outputs": [
    {
     "data": {
      "text/html": [
       "<div>\n",
       "<style scoped>\n",
       "    .dataframe tbody tr th:only-of-type {\n",
       "        vertical-align: middle;\n",
       "    }\n",
       "\n",
       "    .dataframe tbody tr th {\n",
       "        vertical-align: top;\n",
       "    }\n",
       "\n",
       "    .dataframe thead th {\n",
       "        text-align: right;\n",
       "    }\n",
       "</style>\n",
       "<table border=\"1\" class=\"dataframe\">\n",
       "  <thead>\n",
       "    <tr style=\"text-align: right;\">\n",
       "      <th></th>\n",
       "      <th>book_link</th>\n",
       "      <th>isbn</th>\n",
       "      <th>isbn13</th>\n",
       "      <th>book_title</th>\n",
       "      <th>original_title</th>\n",
       "      <th>avg_rating</th>\n",
       "      <th>author_link</th>\n",
       "      <th>author_names</th>\n",
       "      <th>book_description</th>\n",
       "    </tr>\n",
       "  </thead>\n",
       "  <tbody>\n",
       "    <tr>\n",
       "      <th>0</th>\n",
       "      <td>http://goodreads.com//book/show/3869.A_Brief_H...</td>\n",
       "      <td>0553380168</td>\n",
       "      <td>9780553380163</td>\n",
       "      <td>A Brief History of Time</td>\n",
       "      <td>A Brief History of Time: From the Big Bang to ...</td>\n",
       "      <td>4.18</td>\n",
       "      <td>https://www.goodreads.com/author/show/1401.Ste...</td>\n",
       "      <td>[Stephen Hawking]</td>\n",
       "      <td>In the ten years since its publication in 1988...</td>\n",
       "    </tr>\n",
       "    <tr>\n",
       "      <th>1</th>\n",
       "      <td>http://goodreads.com//book/show/21.A_Short_His...</td>\n",
       "      <td>076790818X</td>\n",
       "      <td>9780767908184</td>\n",
       "      <td>A Short History of Nearly Everything</td>\n",
       "      <td>A Short History of Nearly Everything</td>\n",
       "      <td>4.20</td>\n",
       "      <td>https://www.goodreads.com/author/show/7.Bill_B...</td>\n",
       "      <td>[Bill Bryson]</td>\n",
       "      <td>In Bryson's biggest book, he confronts his gre...</td>\n",
       "    </tr>\n",
       "    <tr>\n",
       "      <th>2</th>\n",
       "      <td>http://goodreads.com//book/show/61535.The_Self...</td>\n",
       "      <td>0199291152</td>\n",
       "      <td>9780199291151</td>\n",
       "      <td>The Selfish Gene</td>\n",
       "      <td>The Selfish Gene</td>\n",
       "      <td>4.14</td>\n",
       "      <td>https://www.goodreads.com/author/show/1194.Ric...</td>\n",
       "      <td>[Richard Dawkins]</td>\n",
       "      <td>The Selfish Gene: 30th Anniversary Edition—wit...</td>\n",
       "    </tr>\n",
       "    <tr>\n",
       "      <th>3</th>\n",
       "      <td>http://goodreads.com//book/show/55030.Cosmos</td>\n",
       "      <td>0375508325</td>\n",
       "      <td>9780375508325</td>\n",
       "      <td>Cosmos</td>\n",
       "      <td>Cosmos</td>\n",
       "      <td>4.37</td>\n",
       "      <td>https://www.goodreads.com/author/show/10538.Ca...</td>\n",
       "      <td>[Carl Sagan]</td>\n",
       "      <td>Cosmos has 13 heavily illustrated chapters, co...</td>\n",
       "    </tr>\n",
       "    <tr>\n",
       "      <th>4</th>\n",
       "      <td>http://goodreads.com//book/show/63697.The_Man_...</td>\n",
       "      <td>0684853949</td>\n",
       "      <td>9780684853949</td>\n",
       "      <td>The Man Who Mistook His Wife for a Hat and Oth...</td>\n",
       "      <td>The Man Who Mistook His Wife for a Hat and Oth...</td>\n",
       "      <td>4.06</td>\n",
       "      <td>https://www.goodreads.com/author/show/843200.O...</td>\n",
       "      <td>[Oliver Sacks]</td>\n",
       "      <td>If a man has lost a leg or an eye, he knows he...</td>\n",
       "    </tr>\n",
       "    <tr>\n",
       "      <th>...</th>\n",
       "      <td>...</td>\n",
       "      <td>...</td>\n",
       "      <td>...</td>\n",
       "      <td>...</td>\n",
       "      <td>...</td>\n",
       "      <td>...</td>\n",
       "      <td>...</td>\n",
       "      <td>...</td>\n",
       "      <td>...</td>\n",
       "    </tr>\n",
       "    <tr>\n",
       "      <th>1095</th>\n",
       "      <td>http://goodreads.com//book/show/11256979-the-m...</td>\n",
       "      <td>1439192812</td>\n",
       "      <td>9781439192818</td>\n",
       "      <td>The Magic of Reality: How We Know What's Reall...</td>\n",
       "      <td>The Magic of Reality: How We Know What's Reall...</td>\n",
       "      <td>4.04</td>\n",
       "      <td>https://www.goodreads.com/author/show/1194.Ric...</td>\n",
       "      <td>[Richard Dawkins]</td>\n",
       "      <td>Magic takes many forms. Supernatural magic is ...</td>\n",
       "    </tr>\n",
       "    <tr>\n",
       "      <th>1096</th>\n",
       "      <td>http://goodreads.com//book/show/27213168-i-con...</td>\n",
       "      <td>0062368591</td>\n",
       "      <td>9780062368591</td>\n",
       "      <td>I Contain Multitudes: The Microbes Within Us a...</td>\n",
       "      <td>I Contain Multitudes</td>\n",
       "      <td>4.15</td>\n",
       "      <td>https://www.goodreads.com/author/show/4124738....</td>\n",
       "      <td>[Ed Yong]</td>\n",
       "      <td>Every animal, whether human, squid, or wasp, i...</td>\n",
       "    </tr>\n",
       "    <tr>\n",
       "      <th>1097</th>\n",
       "      <td>http://goodreads.com//book/show/17910054-the-s...</td>\n",
       "      <td>0805092994</td>\n",
       "      <td>9780805092998</td>\n",
       "      <td>The Sixth Extinction: An Unnatural History</td>\n",
       "      <td>The Sixth Extinction: An Unnatural History</td>\n",
       "      <td>4.13</td>\n",
       "      <td>https://www.goodreads.com/author/show/45840.El...</td>\n",
       "      <td>[Elizabeth Kolbert]</td>\n",
       "      <td>Over the last half-billion years, there have b...</td>\n",
       "    </tr>\n",
       "    <tr>\n",
       "      <th>1098</th>\n",
       "      <td>http://goodreads.com//book/show/2094.A_Briefer...</td>\n",
       "      <td>0553804367</td>\n",
       "      <td>9780553804362</td>\n",
       "      <td>A Briefer History of Time</td>\n",
       "      <td>A Briefer History of Time</td>\n",
       "      <td>4.22</td>\n",
       "      <td>https://www.goodreads.com/author/show/1401.Ste...</td>\n",
       "      <td>[Stephen Hawking]</td>\n",
       "      <td>Stephen Hawking's worldwide bestseller, A Brie...</td>\n",
       "    </tr>\n",
       "    <tr>\n",
       "      <th>1099</th>\n",
       "      <td>http://goodreads.com//book/show/835623.How_the...</td>\n",
       "      <td>0393318486</td>\n",
       "      <td>9780393318487</td>\n",
       "      <td>How the Mind Works</td>\n",
       "      <td>How the Mind Works</td>\n",
       "      <td>3.98</td>\n",
       "      <td>https://www.goodreads.com/author/show/3915.Ste...</td>\n",
       "      <td>[Steven Pinker]</td>\n",
       "      <td>In this extraordinary bestseller, Steven Pinke...</td>\n",
       "    </tr>\n",
       "  </tbody>\n",
       "</table>\n",
       "<p>1100 rows × 9 columns</p>\n",
       "</div>"
      ],
      "text/plain": [
       "                                              book_link        isbn  \\\n",
       "0     http://goodreads.com//book/show/3869.A_Brief_H...  0553380168   \n",
       "1     http://goodreads.com//book/show/21.A_Short_His...  076790818X   \n",
       "2     http://goodreads.com//book/show/61535.The_Self...  0199291152   \n",
       "3          http://goodreads.com//book/show/55030.Cosmos  0375508325   \n",
       "4     http://goodreads.com//book/show/63697.The_Man_...  0684853949   \n",
       "...                                                 ...         ...   \n",
       "1095  http://goodreads.com//book/show/11256979-the-m...  1439192812   \n",
       "1096  http://goodreads.com//book/show/27213168-i-con...  0062368591   \n",
       "1097  http://goodreads.com//book/show/17910054-the-s...  0805092994   \n",
       "1098  http://goodreads.com//book/show/2094.A_Briefer...  0553804367   \n",
       "1099  http://goodreads.com//book/show/835623.How_the...  0393318486   \n",
       "\n",
       "             isbn13                                         book_title  \\\n",
       "0     9780553380163                            A Brief History of Time   \n",
       "1     9780767908184               A Short History of Nearly Everything   \n",
       "2     9780199291151                                   The Selfish Gene   \n",
       "3     9780375508325                                             Cosmos   \n",
       "4     9780684853949  The Man Who Mistook His Wife for a Hat and Oth...   \n",
       "...             ...                                                ...   \n",
       "1095  9781439192818  The Magic of Reality: How We Know What's Reall...   \n",
       "1096  9780062368591  I Contain Multitudes: The Microbes Within Us a...   \n",
       "1097  9780805092998         The Sixth Extinction: An Unnatural History   \n",
       "1098  9780553804362                          A Briefer History of Time   \n",
       "1099  9780393318487                                 How the Mind Works   \n",
       "\n",
       "                                         original_title  avg_rating  \\\n",
       "0     A Brief History of Time: From the Big Bang to ...        4.18   \n",
       "1                  A Short History of Nearly Everything        4.20   \n",
       "2                                      The Selfish Gene        4.14   \n",
       "3                                                Cosmos        4.37   \n",
       "4     The Man Who Mistook His Wife for a Hat and Oth...        4.06   \n",
       "...                                                 ...         ...   \n",
       "1095  The Magic of Reality: How We Know What's Reall...        4.04   \n",
       "1096                               I Contain Multitudes        4.15   \n",
       "1097         The Sixth Extinction: An Unnatural History        4.13   \n",
       "1098                          A Briefer History of Time        4.22   \n",
       "1099                                 How the Mind Works        3.98   \n",
       "\n",
       "                                            author_link         author_names  \\\n",
       "0     https://www.goodreads.com/author/show/1401.Ste...    [Stephen Hawking]   \n",
       "1     https://www.goodreads.com/author/show/7.Bill_B...        [Bill Bryson]   \n",
       "2     https://www.goodreads.com/author/show/1194.Ric...    [Richard Dawkins]   \n",
       "3     https://www.goodreads.com/author/show/10538.Ca...         [Carl Sagan]   \n",
       "4     https://www.goodreads.com/author/show/843200.O...       [Oliver Sacks]   \n",
       "...                                                 ...                  ...   \n",
       "1095  https://www.goodreads.com/author/show/1194.Ric...    [Richard Dawkins]   \n",
       "1096  https://www.goodreads.com/author/show/4124738....            [Ed Yong]   \n",
       "1097  https://www.goodreads.com/author/show/45840.El...  [Elizabeth Kolbert]   \n",
       "1098  https://www.goodreads.com/author/show/1401.Ste...    [Stephen Hawking]   \n",
       "1099  https://www.goodreads.com/author/show/3915.Ste...      [Steven Pinker]   \n",
       "\n",
       "                                       book_description  \n",
       "0     In the ten years since its publication in 1988...  \n",
       "1     In Bryson's biggest book, he confronts his gre...  \n",
       "2     The Selfish Gene: 30th Anniversary Edition—wit...  \n",
       "3     Cosmos has 13 heavily illustrated chapters, co...  \n",
       "4     If a man has lost a leg or an eye, he knows he...  \n",
       "...                                                 ...  \n",
       "1095  Magic takes many forms. Supernatural magic is ...  \n",
       "1096  Every animal, whether human, squid, or wasp, i...  \n",
       "1097  Over the last half-billion years, there have b...  \n",
       "1098  Stephen Hawking's worldwide bestseller, A Brie...  \n",
       "1099  In this extraordinary bestseller, Steven Pinke...  \n",
       "\n",
       "[1100 rows x 9 columns]"
      ]
     },
     "execution_count": 76,
     "metadata": {},
     "output_type": "execute_result"
    }
   ],
   "source": [
    "df"
   ]
  },
  {
   "cell_type": "code",
   "execution_count": 77,
   "metadata": {},
   "outputs": [],
   "source": [
    "df.to_csv('../data/gr_books_df.csv')"
   ]
  },
  {
   "cell_type": "code",
   "execution_count": null,
   "metadata": {},
   "outputs": [],
   "source": []
  }
 ],
 "metadata": {
  "kernelspec": {
   "display_name": "Python 3",
   "language": "python",
   "name": "python3"
  },
  "language_info": {
   "codemirror_mode": {
    "name": "ipython",
    "version": 3
   },
   "file_extension": ".py",
   "mimetype": "text/x-python",
   "name": "python",
   "nbconvert_exporter": "python",
   "pygments_lexer": "ipython3",
   "version": "3.7.7"
  }
 },
 "nbformat": 4,
 "nbformat_minor": 4
}
