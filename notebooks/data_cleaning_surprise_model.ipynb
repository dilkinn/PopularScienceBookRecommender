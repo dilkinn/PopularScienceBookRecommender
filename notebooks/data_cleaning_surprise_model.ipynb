{
 "cells": [
  {
   "cell_type": "code",
   "execution_count": 1,
   "metadata": {},
   "outputs": [],
   "source": [
    "import pandas as pd\n",
    "import numpy as np\n",
    "import fnmatch \n",
    "import os "
   ]
  },
  {
   "cell_type": "code",
   "execution_count": 109,
   "metadata": {},
   "outputs": [],
   "source": [
    "def read_ratings(filespath='../data/small_dataset/'):\n",
    "    pattern = 'revs_*.csv'\n",
    "    print('Pattern :', pattern )\n",
    "\n",
    "    files = os.listdir(filespath) \n",
    "    dfs_files = []\n",
    "    for name in files: \n",
    "        if fnmatch.fnmatch(name, pattern):\n",
    "            dfs_files.append(name)\n",
    "    dfs_files\n",
    "    dfs_paths = []\n",
    "    for file in dfs_files:\n",
    "        dfs_paths.append(filespath + file)\n",
    "\n",
    "    revs_lst = []\n",
    "    for file in dfs_paths:\n",
    "        try:\n",
    "            revs_lst.append(pd.read_csv(file, usecols=[1,2,3]))\n",
    "        except:\n",
    "            print(f'file {file} failed')\n",
    "    print(len(revs_lst))\n",
    "    revs_df = pd.concat(revs_lst,axis=0)\n",
    "#     revs_df['UserID'] = revs_df.user_link.astype('category').cat.codes\n",
    "#     revs_df.info()\n",
    "#     revsdf = revs_df[['isbn','UserID','ranking']]\n",
    "#     ratings_df = revsdf.rename(columns={\"ranking\":\"Rating\", 'isbn':'ISBN'})\n",
    "\n",
    "#     #droping raws with UserID == 0\n",
    "#     ratings_df.drop(ratings_df[ratings_df['UserID']==0].index, axis=0,inplace=True)\n",
    "#     ratings_df.drop(ratings_df[ratings_df['Rating']==0].index, axis=0,inplace=True)\n",
    "    \n",
    "    return revs_df"
   ]
  },
  {
   "cell_type": "code",
   "execution_count": 71,
   "metadata": {},
   "outputs": [
    {
     "name": "stdout",
     "output_type": "stream",
     "text": [
      "Pattern : revs_*.csv\n",
      "file ../data/small_dataset/revs_1594205221.csv failed\n",
      "93\n",
      "<class 'pandas.core.frame.DataFrame'>\n",
      "Int64Index: 18550 entries, 0 to 59\n",
      "Data columns (total 4 columns):\n",
      " #   Column     Non-Null Count  Dtype \n",
      "---  ------     --------------  ----- \n",
      " 0   isbn       18550 non-null  object\n",
      " 1   user_link  18550 non-null  object\n",
      " 2   ranking    18550 non-null  int64 \n",
      " 3   UserID     18550 non-null  int16 \n",
      "dtypes: int16(1), int64(1), object(2)\n",
      "memory usage: 615.9+ KB\n"
     ]
    },
    {
     "data": {
      "text/plain": [
       "93"
      ]
     },
     "execution_count": 71,
     "metadata": {},
     "output_type": "execute_result"
    }
   ],
   "source": [
    "ratings_s_df = read_ratings()\n",
    "len(ratings_s_df['ISBN'].unique())"
   ]
  },
  {
   "cell_type": "code",
   "execution_count": 33,
   "metadata": {},
   "outputs": [
    {
     "data": {
      "text/plain": [
       "93"
      ]
     },
     "execution_count": 33,
     "metadata": {},
     "output_type": "execute_result"
    }
   ],
   "source": [
    "len(ratings_s_df['ISBN'].unique())"
   ]
  },
  {
   "cell_type": "code",
   "execution_count": 11,
   "metadata": {},
   "outputs": [
    {
     "data": {
      "text/html": [
       "<div>\n",
       "<style scoped>\n",
       "    .dataframe tbody tr th:only-of-type {\n",
       "        vertical-align: middle;\n",
       "    }\n",
       "\n",
       "    .dataframe tbody tr th {\n",
       "        vertical-align: top;\n",
       "    }\n",
       "\n",
       "    .dataframe thead th {\n",
       "        text-align: right;\n",
       "    }\n",
       "</style>\n",
       "<table border=\"1\" class=\"dataframe\">\n",
       "  <thead>\n",
       "    <tr style=\"text-align: right;\">\n",
       "      <th></th>\n",
       "      <th>UserID</th>\n",
       "      <th>Rating</th>\n",
       "    </tr>\n",
       "  </thead>\n",
       "  <tbody>\n",
       "    <tr>\n",
       "      <th>count</th>\n",
       "      <td>4406.000000</td>\n",
       "      <td>4406.000000</td>\n",
       "    </tr>\n",
       "    <tr>\n",
       "      <th>mean</th>\n",
       "      <td>6913.781207</td>\n",
       "      <td>3.960508</td>\n",
       "    </tr>\n",
       "    <tr>\n",
       "      <th>std</th>\n",
       "      <td>4002.581711</td>\n",
       "      <td>1.027558</td>\n",
       "    </tr>\n",
       "    <tr>\n",
       "      <th>min</th>\n",
       "      <td>5.000000</td>\n",
       "      <td>1.000000</td>\n",
       "    </tr>\n",
       "    <tr>\n",
       "      <th>25%</th>\n",
       "      <td>3527.000000</td>\n",
       "      <td>3.000000</td>\n",
       "    </tr>\n",
       "    <tr>\n",
       "      <th>50%</th>\n",
       "      <td>6845.000000</td>\n",
       "      <td>4.000000</td>\n",
       "    </tr>\n",
       "    <tr>\n",
       "      <th>75%</th>\n",
       "      <td>10373.750000</td>\n",
       "      <td>5.000000</td>\n",
       "    </tr>\n",
       "    <tr>\n",
       "      <th>max</th>\n",
       "      <td>13928.000000</td>\n",
       "      <td>5.000000</td>\n",
       "    </tr>\n",
       "  </tbody>\n",
       "</table>\n",
       "</div>"
      ],
      "text/plain": [
       "             UserID       Rating\n",
       "count   4406.000000  4406.000000\n",
       "mean    6913.781207     3.960508\n",
       "std     4002.581711     1.027558\n",
       "min        5.000000     1.000000\n",
       "25%     3527.000000     3.000000\n",
       "50%     6845.000000     4.000000\n",
       "75%    10373.750000     5.000000\n",
       "max    13928.000000     5.000000"
      ]
     },
     "execution_count": 11,
     "metadata": {},
     "output_type": "execute_result"
    }
   ],
   "source": [
    "ratings_df.describe()"
   ]
  },
  {
   "cell_type": "code",
   "execution_count": 13,
   "metadata": {},
   "outputs": [
    {
     "data": {
      "text/plain": [
       "array([[<matplotlib.axes._subplots.AxesSubplot object at 0x7fc3d666dd90>,\n",
       "        <matplotlib.axes._subplots.AxesSubplot object at 0x7fc3d4add850>]],\n",
       "      dtype=object)"
      ]
     },
     "execution_count": 13,
     "metadata": {},
     "output_type": "execute_result"
    },
    {
     "data": {
      "image/png": "[encoded data removed]",
      "text/plain": [
       "<Figure size 432x288 with 2 Axes>"
      ]
     },
     "metadata": {
      "needs_background": "light"
     },
     "output_type": "display_data"
    }
   ],
   "source": [
    "ratings_s_df.hist()"
   ]
  },
  {
   "cell_type": "code",
   "execution_count": 138,
   "metadata": {},
   "outputs": [
    {
     "name": "stdout",
     "output_type": "stream",
     "text": [
      "Pattern : revs_*.csv\n",
      "974\n"
     ]
    }
   ],
   "source": [
    "ratings_b_df = read_ratings('../data/big_dataset/')"
   ]
  },
  {
   "cell_type": "code",
   "execution_count": 133,
   "metadata": {},
   "outputs": [
    {
     "name": "stdout",
     "output_type": "stream",
     "text": [
      "<class 'pandas.core.frame.DataFrame'>\n",
      "Int64Index: 72047 entries, 0 to 59\n",
      "Data columns (total 4 columns):\n",
      " #   Column     Non-Null Count  Dtype   \n",
      "---  ------     --------------  -----   \n",
      " 0   isbn       72047 non-null  object  \n",
      " 1   user_link  72047 non-null  object  \n",
      " 2   ranking    72047 non-null  int64   \n",
      " 3   UserID     72047 non-null  category\n",
      "dtypes: category(1), int64(1), object(2)\n",
      "memory usage: 4.1+ MB\n"
     ]
    }
   ],
   "source": [
    "ratings_b_df['UserID'] = ratings_b_df.user_link.astype('category')#.cat.codes\n",
    "ratings_b_df.info()\n",
    "ratings_b_df = ratings_b_df[['isbn','UserID','ranking']]\n",
    "ratings_b_df = ratings_b_df.rename(columns={\"ranking\":\"Rating\", 'isbn':'ISBN'})\n",
    "\n",
    "#droping raws with UserID == 0\n",
    "ratings_b_df.drop(ratings_b_df[ratings_b_df['UserID']==0].index, axis=0,inplace=True)\n",
    "ratings_b_df.drop(ratings_b_df[ratings_b_df['Rating']==0].index, axis=0,inplace=True)\n"
   ]
  },
  {
   "cell_type": "code",
   "execution_count": 149,
   "metadata": {},
   "outputs": [
    {
     "data": {
      "text/html": [
       "<div>\n",
       "<style scoped>\n",
       "    .dataframe tbody tr th:only-of-type {\n",
       "        vertical-align: middle;\n",
       "    }\n",
       "\n",
       "    .dataframe tbody tr th {\n",
       "        vertical-align: top;\n",
       "    }\n",
       "\n",
       "    .dataframe thead th {\n",
       "        text-align: right;\n",
       "    }\n",
       "</style>\n",
       "<table border=\"1\" class=\"dataframe\">\n",
       "  <thead>\n",
       "    <tr style=\"text-align: right;\">\n",
       "      <th></th>\n",
       "      <th>isbn</th>\n",
       "      <th>user_link</th>\n",
       "      <th>ranking</th>\n",
       "    </tr>\n",
       "  </thead>\n",
       "  <tbody>\n",
       "    <tr>\n",
       "      <th>0</th>\n",
       "      <td>0</td>\n",
       "      <td>http://goodreads.com/user/show/1742824-jason-k...</td>\n",
       "      <td>4</td>\n",
       "    </tr>\n",
       "    <tr>\n",
       "      <th>1</th>\n",
       "      <td>0</td>\n",
       "      <td>http://goodreads.com/user/show/25353295-carmen</td>\n",
       "      <td>4</td>\n",
       "    </tr>\n",
       "    <tr>\n",
       "      <th>2</th>\n",
       "      <td>0</td>\n",
       "      <td>http://goodreads.com/user/show/282633-emily</td>\n",
       "      <td>5</td>\n",
       "    </tr>\n",
       "    <tr>\n",
       "      <th>3</th>\n",
       "      <td>0</td>\n",
       "      <td>http://goodreads.com/user/show/7481492-margitte</td>\n",
       "      <td>4</td>\n",
       "    </tr>\n",
       "    <tr>\n",
       "      <th>4</th>\n",
       "      <td>0</td>\n",
       "      <td>http://goodreads.com/user/show/22600410-cathrine</td>\n",
       "      <td>4</td>\n",
       "    </tr>\n",
       "    <tr>\n",
       "      <th>...</th>\n",
       "      <td>...</td>\n",
       "      <td>...</td>\n",
       "      <td>...</td>\n",
       "    </tr>\n",
       "    <tr>\n",
       "      <th>295</th>\n",
       "      <td>0</td>\n",
       "      <td>http://goodreads.com/user/show/58159462-tori-pfau</td>\n",
       "      <td>3</td>\n",
       "    </tr>\n",
       "    <tr>\n",
       "      <th>296</th>\n",
       "      <td>0</td>\n",
       "      <td>http://goodreads.com/user/show/23807620-lisa-s...</td>\n",
       "      <td>5</td>\n",
       "    </tr>\n",
       "    <tr>\n",
       "      <th>297</th>\n",
       "      <td>0</td>\n",
       "      <td>http://goodreads.com/user/show/56234968-karrie</td>\n",
       "      <td>3</td>\n",
       "    </tr>\n",
       "    <tr>\n",
       "      <th>298</th>\n",
       "      <td>0</td>\n",
       "      <td>http://goodreads.com/user/show/2551190-loretta</td>\n",
       "      <td>5</td>\n",
       "    </tr>\n",
       "    <tr>\n",
       "      <th>299</th>\n",
       "      <td>0</td>\n",
       "      <td>http://goodreads.com/user/show/23794296-julie</td>\n",
       "      <td>3</td>\n",
       "    </tr>\n",
       "  </tbody>\n",
       "</table>\n",
       "<p>9933 rows × 3 columns</p>\n",
       "</div>"
      ],
      "text/plain": [
       "    isbn                                          user_link  ranking\n",
       "0      0  http://goodreads.com/user/show/1742824-jason-k...        4\n",
       "1      0     http://goodreads.com/user/show/25353295-carmen        4\n",
       "2      0        http://goodreads.com/user/show/282633-emily        5\n",
       "3      0    http://goodreads.com/user/show/7481492-margitte        4\n",
       "4      0   http://goodreads.com/user/show/22600410-cathrine        4\n",
       "..   ...                                                ...      ...\n",
       "295    0  http://goodreads.com/user/show/58159462-tori-pfau        3\n",
       "296    0  http://goodreads.com/user/show/23807620-lisa-s...        5\n",
       "297    0     http://goodreads.com/user/show/56234968-karrie        3\n",
       "298    0     http://goodreads.com/user/show/2551190-loretta        5\n",
       "299    0      http://goodreads.com/user/show/23794296-julie        3\n",
       "\n",
       "[9933 rows x 3 columns]"
      ]
     },
     "execution_count": 149,
     "metadata": {},
     "output_type": "execute_result"
    }
   ],
   "source": [
    "ratings_b_df[ratings_b_df['isbn']==0]"
   ]
  },
  {
   "cell_type": "code",
   "execution_count": 145,
   "metadata": {},
   "outputs": [
    {
     "data": {
      "text/plain": [
       "array(['http://goodreads.com/user/show/89336018-ujjawal-sureka',\n",
       "       'http://goodreads.com/user/show/3655942-rakhi-dalal',\n",
       "       'http://goodreads.com/user/show/74953959-aakanksha', ...,\n",
       "       'http://goodreads.com/user/show/4759882-farzana',\n",
       "       'http://goodreads.com/user/show/46465480-william-smith',\n",
       "       'http://goodreads.com/user/show/1002389-aerin'], dtype=object)"
      ]
     },
     "execution_count": 145,
     "metadata": {},
     "output_type": "execute_result"
    }
   ],
   "source": [
    "ratings_b_df['user_link'].unique()"
   ]
  },
  {
   "cell_type": "code",
   "execution_count": 120,
   "metadata": {},
   "outputs": [
    {
     "data": {
      "text/html": [
       "<div>\n",
       "<style scoped>\n",
       "    .dataframe tbody tr th:only-of-type {\n",
       "        vertical-align: middle;\n",
       "    }\n",
       "\n",
       "    .dataframe tbody tr th {\n",
       "        vertical-align: top;\n",
       "    }\n",
       "\n",
       "    .dataframe thead th {\n",
       "        text-align: right;\n",
       "    }\n",
       "</style>\n",
       "<table border=\"1\" class=\"dataframe\">\n",
       "  <thead>\n",
       "    <tr style=\"text-align: right;\">\n",
       "      <th></th>\n",
       "      <th>ISBN</th>\n",
       "      <th>UserID</th>\n",
       "      <th>Rating</th>\n",
       "    </tr>\n",
       "  </thead>\n",
       "  <tbody>\n",
       "    <tr>\n",
       "      <th>4</th>\n",
       "      <td>1599869942</td>\n",
       "      <td>0</td>\n",
       "      <td>4</td>\n",
       "    </tr>\n",
       "    <tr>\n",
       "      <th>19</th>\n",
       "      <td>142004413</td>\n",
       "      <td>0</td>\n",
       "      <td>5</td>\n",
       "    </tr>\n",
       "    <tr>\n",
       "      <th>4</th>\n",
       "      <td>0</td>\n",
       "      <td>0</td>\n",
       "      <td>4</td>\n",
       "    </tr>\n",
       "    <tr>\n",
       "      <th>16</th>\n",
       "      <td>525427570</td>\n",
       "      <td>0</td>\n",
       "      <td>4</td>\n",
       "    </tr>\n",
       "    <tr>\n",
       "      <th>8</th>\n",
       "      <td>0</td>\n",
       "      <td>0</td>\n",
       "      <td>4</td>\n",
       "    </tr>\n",
       "    <tr>\n",
       "      <th>1</th>\n",
       "      <td>1401309666</td>\n",
       "      <td>0</td>\n",
       "      <td>5</td>\n",
       "    </tr>\n",
       "    <tr>\n",
       "      <th>28</th>\n",
       "      <td>62301233</td>\n",
       "      <td>0</td>\n",
       "      <td>5</td>\n",
       "    </tr>\n",
       "    <tr>\n",
       "      <th>32</th>\n",
       "      <td>0</td>\n",
       "      <td>0</td>\n",
       "      <td>0</td>\n",
       "    </tr>\n",
       "    <tr>\n",
       "      <th>17</th>\n",
       "      <td>076790818X</td>\n",
       "      <td>0</td>\n",
       "      <td>5</td>\n",
       "    </tr>\n",
       "    <tr>\n",
       "      <th>9</th>\n",
       "      <td>0</td>\n",
       "      <td>0</td>\n",
       "      <td>4</td>\n",
       "    </tr>\n",
       "    <tr>\n",
       "      <th>1</th>\n",
       "      <td>979777704</td>\n",
       "      <td>0</td>\n",
       "      <td>4</td>\n",
       "    </tr>\n",
       "    <tr>\n",
       "      <th>7</th>\n",
       "      <td>525512179</td>\n",
       "      <td>0</td>\n",
       "      <td>4</td>\n",
       "    </tr>\n",
       "    <tr>\n",
       "      <th>2</th>\n",
       "      <td>385524382</td>\n",
       "      <td>0</td>\n",
       "      <td>4</td>\n",
       "    </tr>\n",
       "    <tr>\n",
       "      <th>29</th>\n",
       "      <td>Los</td>\n",
       "      <td>0</td>\n",
       "      <td>5</td>\n",
       "    </tr>\n",
       "    <tr>\n",
       "      <th>7</th>\n",
       "      <td>307353133</td>\n",
       "      <td>0</td>\n",
       "      <td>5</td>\n",
       "    </tr>\n",
       "    <tr>\n",
       "      <th>37</th>\n",
       "      <td>316017922</td>\n",
       "      <td>0</td>\n",
       "      <td>4</td>\n",
       "    </tr>\n",
       "    <tr>\n",
       "      <th>1</th>\n",
       "      <td>1591847788</td>\n",
       "      <td>0</td>\n",
       "      <td>4</td>\n",
       "    </tr>\n",
       "    <tr>\n",
       "      <th>34</th>\n",
       "      <td>393609391</td>\n",
       "      <td>0</td>\n",
       "      <td>3</td>\n",
       "    </tr>\n",
       "    <tr>\n",
       "      <th>1</th>\n",
       "      <td>393355624</td>\n",
       "      <td>0</td>\n",
       "      <td>5</td>\n",
       "    </tr>\n",
       "    <tr>\n",
       "      <th>18</th>\n",
       "      <td>316010669</td>\n",
       "      <td>0</td>\n",
       "      <td>4</td>\n",
       "    </tr>\n",
       "    <tr>\n",
       "      <th>3</th>\n",
       "      <td>316346624</td>\n",
       "      <td>0</td>\n",
       "      <td>4</td>\n",
       "    </tr>\n",
       "    <tr>\n",
       "      <th>16</th>\n",
       "      <td>307266303</td>\n",
       "      <td>0</td>\n",
       "      <td>4</td>\n",
       "    </tr>\n",
       "    <tr>\n",
       "      <th>28</th>\n",
       "      <td>0</td>\n",
       "      <td>0</td>\n",
       "      <td>5</td>\n",
       "    </tr>\n",
       "    <tr>\n",
       "      <th>7</th>\n",
       "      <td>1400069807</td>\n",
       "      <td>0</td>\n",
       "      <td>5</td>\n",
       "    </tr>\n",
       "    <tr>\n",
       "      <th>33</th>\n",
       "      <td>152473165X</td>\n",
       "      <td>0</td>\n",
       "      <td>4</td>\n",
       "    </tr>\n",
       "    <tr>\n",
       "      <th>69</th>\n",
       "      <td>142000280</td>\n",
       "      <td>0</td>\n",
       "      <td>4</td>\n",
       "    </tr>\n",
       "    <tr>\n",
       "      <th>23</th>\n",
       "      <td>0</td>\n",
       "      <td>0</td>\n",
       "      <td>4</td>\n",
       "    </tr>\n",
       "  </tbody>\n",
       "</table>\n",
       "</div>"
      ],
      "text/plain": [
       "          ISBN  UserID  Rating\n",
       "4   1599869942       0       4\n",
       "19   142004413       0       5\n",
       "4            0       0       4\n",
       "16   525427570       0       4\n",
       "8            0       0       4\n",
       "1   1401309666       0       5\n",
       "28    62301233       0       5\n",
       "32           0       0       0\n",
       "17  076790818X       0       5\n",
       "9            0       0       4\n",
       "1    979777704       0       4\n",
       "7    525512179       0       4\n",
       "2    385524382       0       4\n",
       "29         Los       0       5\n",
       "7    307353133       0       5\n",
       "37   316017922       0       4\n",
       "1   1591847788       0       4\n",
       "34   393609391       0       3\n",
       "1    393355624       0       5\n",
       "18   316010669       0       4\n",
       "3    316346624       0       4\n",
       "16   307266303       0       4\n",
       "28           0       0       5\n",
       "7   1400069807       0       5\n",
       "33  152473165X       0       4\n",
       "69   142000280       0       4\n",
       "23           0       0       4"
      ]
     },
     "execution_count": 120,
     "metadata": {},
     "output_type": "execute_result"
    }
   ],
   "source": [
    "ratings_b_df[ratings_b_df['UserID']==0]"
   ]
  },
  {
   "cell_type": "code",
   "execution_count": 74,
   "metadata": {},
   "outputs": [
    {
     "name": "stdout",
     "output_type": "stream",
     "text": [
      "Pattern : revs_*.csv\n"
     ]
    }
   ],
   "source": [
    "filespath='../data/big_dataset/'\n",
    "pattern = 'revs_*.csv'\n",
    "print('Pattern :', pattern )\n",
    "\n",
    "files = os.listdir(filespath) \n",
    "dfs_files = []\n",
    "for name in files: \n",
    "    if fnmatch.fnmatch(name, pattern):\n",
    "        dfs_files.append(name)\n",
    "dfs_files\n",
    "dfs_paths = []\n",
    "for file in dfs_files:\n",
    "    dfs_paths.append(filespath + file)\n",
    "\n",
    "revs_dfs = []"
   ]
  },
  {
   "cell_type": "code",
   "execution_count": 75,
   "metadata": {},
   "outputs": [
    {
     "data": {
      "text/plain": [
       "974"
      ]
     },
     "execution_count": 75,
     "metadata": {},
     "output_type": "execute_result"
    }
   ],
   "source": [
    "len(dfs_paths)"
   ]
  },
  {
   "cell_type": "code",
   "execution_count": 105,
   "metadata": {},
   "outputs": [],
   "source": [
    "revs_lst = []\n",
    "for file in dfs_paths:\n",
    "    revs_lst.append(pd.read_csv(file, usecols=[1,2,3]))\n",
    "\n",
    "revs_df = pd.concat(revs_lst,axis=0)\n",
    "# print(len(revs_df['isbn'].unique()))\n",
    "# print(len(revs_df['isbn']))\n",
    "# revs_df['UserID'] = revs_df.user_link.astype('category').cat.codes\n",
    "# revs_df.info()\n",
    "# revsdf = revs_df[['isbn','UserID','ranking']]\n",
    "# ratings_df = revsdf.rename(columns={\"ranking\":\"Rating\", 'isbn':'ISBN'})\n",
    "# #droping raws with UserID == 0\n",
    "# ratings_df.drop(ratings_df[ratings_df['UserID']==0].index, axis=0,inplace=True)\n",
    "# ratings_df.drop(ratings_df[ratings_df['Rating']==0].index, axis=0,inplace=True)a"
   ]
  },
  {
   "cell_type": "code",
   "execution_count": 108,
   "metadata": {},
   "outputs": [
    {
     "data": {
      "text/plain": [
       "924"
      ]
     },
     "execution_count": 108,
     "metadata": {},
     "output_type": "execute_result"
    }
   ],
   "source": [
    "len(revs_df['isbn'].unique())"
   ]
  },
  {
   "cell_type": "code",
   "execution_count": null,
   "metadata": {},
   "outputs": [],
   "source": []
  }
 ],
 "metadata": {
  "kernelspec": {
   "display_name": "Python 3",
   "language": "python",
   "name": "python3"
  },
  "language_info": {
   "codemirror_mode": {
    "name": "ipython",
    "version": 3
   },
   "file_extension": ".py",
   "mimetype": "text/x-python",
   "name": "python",
   "nbconvert_exporter": "python",
   "pygments_lexer": "ipython3",
   "version": "3.7.7"
  }
 },
 "nbformat": 4,
 "nbformat_minor": 4
}
