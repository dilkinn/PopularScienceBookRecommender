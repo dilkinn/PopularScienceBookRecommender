{
 "cells": [
  {
   "cell_type": "code",
   "execution_count": 1,
   "metadata": {},
   "outputs": [],
   "source": [
    "import pandas as pd\n",
    "import numpy as np\n",
    "import fnmatch \n",
    "import os "
   ]
  },
  {
   "cell_type": "code",
   "execution_count": 249,
   "metadata": {},
   "outputs": [],
   "source": [
    "def read_ratings(filespath='../data/small_dataset/'):\n",
    "    pattern = 'revs_*.csv'\n",
    "    print('Pattern :', pattern )\n",
    "\n",
    "    files = os.listdir(filespath) \n",
    "    dfs_files = []\n",
    "    for name in files: \n",
    "        if fnmatch.fnmatch(name, pattern):\n",
    "            dfs_files.append(name)\n",
    "    dfs_files\n",
    "    dfs_paths = []\n",
    "    for file in dfs_files:\n",
    "        dfs_paths.append(filespath + file)\n",
    "\n",
    "    revs_lst = []\n",
    "    for file in dfs_paths:\n",
    "        try:\n",
    "            revs_lst.append(pd.read_csv(file, usecols=[1,2,3]))\n",
    "        except:\n",
    "            print(f'file {file} failed')\n",
    "    print(len(revs_lst))\n",
    "    revs_df = pd.concat(revs_lst,axis=0)\n",
    "    \n",
    "    df = revs_df[revs_df['isbn'] != 0]\n",
    "    df = df[df['isbn'] != 'Los']\n",
    "    df = df[df['ranking'] != 0]\n",
    "    \n",
    "    df['UserID'] = df.user_link.astype('category').cat.codes\n",
    "    df = df[['isbn','UserID','ranking']]\n",
    "    df = df.rename(columns={\"ranking\":\"Rating\", 'isbn':'ISBN'})\n",
    "    \n",
    "    return df"
   ]
  },
  {
   "cell_type": "code",
   "execution_count": 232,
   "metadata": {},
   "outputs": [
    {
     "name": "stdout",
     "output_type": "stream",
     "text": [
      "Pattern : revs_*.csv\n",
      "file ../data/small_dataset/revs_1594205221.csv failed\n",
      "93\n"
     ]
    }
   ],
   "source": [
    "df_s = read_ratings()"
   ]
  },
  {
   "cell_type": "code",
   "execution_count": 233,
   "metadata": {},
   "outputs": [
    {
     "data": {
      "text/plain": [
       "array([[<matplotlib.axes._subplots.AxesSubplot object at 0x7fc39d47c3d0>,\n",
       "        <matplotlib.axes._subplots.AxesSubplot object at 0x7fc3203ea7d0>]],\n",
       "      dtype=object)"
      ]
     },
     "execution_count": 233,
     "metadata": {},
     "output_type": "execute_result"
    },
    {
     "data": {
      "image/png": "[encoded data removed]",
      "text/plain": [
       "<Figure size 432x288 with 2 Axes>"
      ]
     },
     "metadata": {
      "needs_background": "light"
     },
     "output_type": "display_data"
    }
   ],
   "source": [
    "df_s.hist()"
   ]
  },
  {
   "cell_type": "code",
   "execution_count": 250,
   "metadata": {},
   "outputs": [
    {
     "name": "stdout",
     "output_type": "stream",
     "text": [
      "Pattern : revs_*.csv\n",
      "974\n"
     ]
    }
   ],
   "source": [
    "df_b = read_ratings('../data/big_dataset/')"
   ]
  },
  {
   "cell_type": "code",
   "execution_count": 252,
   "metadata": {},
   "outputs": [
    {
     "data": {
      "text/plain": [
       "array([[<matplotlib.axes._subplots.AxesSubplot object at 0x7fc39dcca550>,\n",
       "        <matplotlib.axes._subplots.AxesSubplot object at 0x7fc321582090>]],\n",
       "      dtype=object)"
      ]
     },
     "execution_count": 252,
     "metadata": {},
     "output_type": "execute_result"
    },
    {
     "data": {
      "image/png": "[encoded data removed]",
      "text/plain": [
       "<Figure size 432x288 with 2 Axes>"
      ]
     },
     "metadata": {
      "needs_background": "light"
     },
     "output_type": "display_data"
    }
   ],
   "source": [
    "df_b.hist()"
   ]
  },
  {
   "cell_type": "code",
   "execution_count": 253,
   "metadata": {},
   "outputs": [
    {
     "name": "stdout",
     "output_type": "stream",
     "text": [
      "Pattern : revs_*.csv\n",
      "293\n"
     ]
    }
   ],
   "source": [
    "df_m = read_ratings('../data/big_data_temp/')"
   ]
  },
  {
   "cell_type": "code",
   "execution_count": 256,
   "metadata": {},
   "outputs": [
    {
     "data": {
      "text/plain": [
       "85175"
      ]
     },
     "execution_count": 256,
     "metadata": {},
     "output_type": "execute_result"
    }
   ],
   "source": [
    "len(df_m['Rating'])"
   ]
  },
  {
   "cell_type": "code",
   "execution_count": 247,
   "metadata": {},
   "outputs": [],
   "source": [
    "def rating_data_desc(df):\n",
    "    num_users = len(df['UserID'].unique())\n",
    "    num_books = len(df['ISBN'].unique())\n",
    "    num_vals = len(df['Rating'])\n",
    "    sparsity = 100 * num_vals / (num_users * num_vals)\n",
    "    print(f'Number of users: {num_users}')\n",
    "    print(f'Number of books: {num_books}')\n",
    "    print(f'Number of ratings: {num_vals}')\n",
    "    print(f'Matrix sparsity: {sparsity:.3f} %')"
   ]
  },
  {
   "cell_type": "code",
   "execution_count": 248,
   "metadata": {},
   "outputs": [
    {
     "name": "stdout",
     "output_type": "stream",
     "text": [
      "Number of users: 13929\n",
      "Number of books: 93\n",
      "Number of ratings: 18550\n",
      "Matrix sparsity: 0.007 %\n",
      "Number of users: 37604\n",
      "Number of books: 922\n",
      "Number of ratings: 62024\n",
      "Matrix sparsity: 0.003 %\n",
      "Number of users: 12620\n",
      "Number of books: 291\n",
      "Number of ratings: 87076\n",
      "Matrix sparsity: 0.008 %\n"
     ]
    }
   ],
   "source": [
    "rating_data_desc(df_s)\n",
    "\n",
    "rating_data_desc(df_b)\n",
    "\n",
    "rating_data_desc(df_m)"
   ]
  },
  {
   "cell_type": "code",
   "execution_count": null,
   "metadata": {},
   "outputs": [],
   "source": []
  }
 ],
 "metadata": {
  "kernelspec": {
   "display_name": "Python 3",
   "language": "python",
   "name": "python3"
  },
  "language_info": {
   "codemirror_mode": {
    "name": "ipython",
    "version": 3
   },
   "file_extension": ".py",
   "mimetype": "text/x-python",
   "name": "python",
   "nbconvert_exporter": "python",
   "pygments_lexer": "ipython3",
   "version": "3.7.7"
  }
 },
 "nbformat": 4,
 "nbformat_minor": 4
}
