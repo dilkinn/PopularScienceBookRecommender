{
 "cells": [
  {
   "cell_type": "code",
   "execution_count": 1,
   "metadata": {},
   "outputs": [],
   "source": [
    "import pandas as pd\n",
    "import numpy as np"
   ]
  },
  {
   "cell_type": "code",
   "execution_count": 11,
   "metadata": {},
   "outputs": [
    {
     "name": "stdout",
     "output_type": "stream",
     "text": [
      "Pattern : revs_*.csv\n"
     ]
    }
   ],
   "source": [
    "import fnmatch \n",
    "import os \n",
    "  \n",
    "pattern = 'revs_*.csv'\n",
    "print('Pattern :', pattern )\n",
    "  \n",
    "files = os.listdir('../data/small_dataset/') \n",
    "dfs_files = []\n",
    "for name in files: \n",
    "    if fnmatch.fnmatch(name, pattern):\n",
    "        dfs_files.append(name)\n",
    "dfs_files\n",
    "dfs_paths = []\n",
    "for file in dfs_files:\n",
    "    dfs_paths.append('../data/small_dataset/' + file)"
   ]
  },
  {
   "cell_type": "code",
   "execution_count": 37,
   "metadata": {},
   "outputs": [],
   "source": [
    "revs_dfs = []\n",
    "for file in dfs_paths:\n",
    "    revs_dfs.append(pd.read_csv(file))\n",
    "    \n",
    "revs_df = pd.concat(revs_dfs)\n",
    "\n",
    "revs_df['UserID'] = revs_df.user_link.astype('category').cat.codes\n",
    "\n",
    "revs_df.info()\n",
    "\n",
    "revsdf = revs_df[['isbn','UserID','ranking']]\n",
    "\n",
    "reviews_df = revsdf.rename(columns={\"ranking\":\"Rating\", 'isbn':'ISBN'})"
   ]
  },
  {
   "cell_type": "code",
   "execution_count": 68,
   "metadata": {},
   "outputs": [],
   "source": [
    "#droping raws with UserID == 0\n",
    "reviews_df.drop(reviews_df[reviews_df['UserID']==0].index, axis=0,inplace=True)\n",
    "reviews_df.drop(reviews_df[reviews_df['Rating']==0].index, axis=0,inplace=True)"
   ]
  },
  {
   "cell_type": "code",
   "execution_count": 84,
   "metadata": {},
   "outputs": [
    {
     "data": {
      "text/plain": [
       "1984819194    75\n",
       "385539304     75\n",
       "965900584     75\n",
       "60556579      75\n",
       "385495323     75\n",
       "              ..\n",
       "142003344      8\n",
       "143036556      8\n",
       "393348741      8\n",
       "544272994      8\n",
       "802714625      8\n",
       "Name: ISBN, Length: 93, dtype: int64"
      ]
     },
     "execution_count": 84,
     "metadata": {},
     "output_type": "execute_result"
    }
   ],
   "source": [
    "reviews_df['ISBN'].value_counts()"
   ]
  },
  {
   "cell_type": "code",
   "execution_count": 108,
   "metadata": {},
   "outputs": [
    {
     "data": {
      "text/html": [
       "<div>\n",
       "<style scoped>\n",
       "    .dataframe tbody tr th:only-of-type {\n",
       "        vertical-align: middle;\n",
       "    }\n",
       "\n",
       "    .dataframe tbody tr th {\n",
       "        vertical-align: top;\n",
       "    }\n",
       "\n",
       "    .dataframe thead th {\n",
       "        text-align: right;\n",
       "    }\n",
       "</style>\n",
       "<table border=\"1\" class=\"dataframe\">\n",
       "  <thead>\n",
       "    <tr style=\"text-align: right;\">\n",
       "      <th></th>\n",
       "      <th>UserID</th>\n",
       "      <th>Rating</th>\n",
       "    </tr>\n",
       "  </thead>\n",
       "  <tbody>\n",
       "    <tr>\n",
       "      <th>count</th>\n",
       "      <td>4406.000000</td>\n",
       "      <td>4406.000000</td>\n",
       "    </tr>\n",
       "    <tr>\n",
       "      <th>mean</th>\n",
       "      <td>6913.781207</td>\n",
       "      <td>3.960508</td>\n",
       "    </tr>\n",
       "    <tr>\n",
       "      <th>std</th>\n",
       "      <td>4002.581711</td>\n",
       "      <td>1.027558</td>\n",
       "    </tr>\n",
       "    <tr>\n",
       "      <th>min</th>\n",
       "      <td>5.000000</td>\n",
       "      <td>1.000000</td>\n",
       "    </tr>\n",
       "    <tr>\n",
       "      <th>25%</th>\n",
       "      <td>3527.000000</td>\n",
       "      <td>3.000000</td>\n",
       "    </tr>\n",
       "    <tr>\n",
       "      <th>50%</th>\n",
       "      <td>6845.000000</td>\n",
       "      <td>4.000000</td>\n",
       "    </tr>\n",
       "    <tr>\n",
       "      <th>75%</th>\n",
       "      <td>10373.750000</td>\n",
       "      <td>5.000000</td>\n",
       "    </tr>\n",
       "    <tr>\n",
       "      <th>max</th>\n",
       "      <td>13928.000000</td>\n",
       "      <td>5.000000</td>\n",
       "    </tr>\n",
       "  </tbody>\n",
       "</table>\n",
       "</div>"
      ],
      "text/plain": [
       "             UserID       Rating\n",
       "count   4406.000000  4406.000000\n",
       "mean    6913.781207     3.960508\n",
       "std     4002.581711     1.027558\n",
       "min        5.000000     1.000000\n",
       "25%     3527.000000     3.000000\n",
       "50%     6845.000000     4.000000\n",
       "75%    10373.750000     5.000000\n",
       "max    13928.000000     5.000000"
      ]
     },
     "execution_count": 108,
     "metadata": {},
     "output_type": "execute_result"
    }
   ],
   "source": [
    "reviews_df.describe()"
   ]
  },
  {
   "cell_type": "code",
   "execution_count": 109,
   "metadata": {},
   "outputs": [
    {
     "data": {
      "text/plain": [
       "array([[<matplotlib.axes._subplots.AxesSubplot object at 0x7f853f674790>,\n",
       "        <matplotlib.axes._subplots.AxesSubplot object at 0x7f853f674690>]],\n",
       "      dtype=object)"
      ]
     },
     "execution_count": 109,
     "metadata": {},
     "output_type": "execute_result"
    },
    {
     "data": {
      "image/png": "[encoded data removed]",
      "text/plain": [
       "<Figure size 432x288 with 2 Axes>"
      ]
     },
     "metadata": {
      "needs_background": "light"
     },
     "output_type": "display_data"
    }
   ],
   "source": [
    "reviews_df.hist()"
   ]
  },
  {
   "cell_type": "code",
   "execution_count": null,
   "metadata": {},
   "outputs": [],
   "source": []
  }
 ],
 "metadata": {
  "kernelspec": {
   "display_name": "Python 3",
   "language": "python",
   "name": "python3"
  },
  "language_info": {
   "codemirror_mode": {
    "name": "ipython",
    "version": 3
   },
   "file_extension": ".py",
   "mimetype": "text/x-python",
   "name": "python",
   "nbconvert_exporter": "python",
   "pygments_lexer": "ipython3",
   "version": "3.7.7"
  }
 },
 "nbformat": 4,
 "nbformat_minor": 4
}
