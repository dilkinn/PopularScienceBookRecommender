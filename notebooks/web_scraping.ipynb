{
 "cells": [
  {
   "cell_type": "code",
   "execution_count": 1,
   "metadata": {},
   "outputs": [],
   "source": [
    "import numpy as np\n",
    "import pandas as pd\n",
    "import goodreads_api_client as gr\n",
    "from bs4 import BeautifulSoup as bs\n",
    "from bs4 import BeautifulSoup\n",
    "import requests as req\n",
    "import requests\n",
    "\n",
    "from urllib.request import urlopen\n",
    "import re\n",
    "\n",
    "# import time\n",
    "import sys\n",
    "\n",
    "import sys, os\n",
    "sys.path.append('..')\n",
    "import src.helper_functions as hf\n",
    "import src.scraping as scr\n",
    "\n",
    "from importlib import reload  \n",
    "from selenium import webdriver\n",
    "# from selenium.webdriver.common.keys import Keys\n",
    "# from selenium.webdriver.support.ui import WebDriverWait\n",
    "# from selenium.webdriver.support import expected_conditions as EC\n",
    "# from selenium.webdriver.common.by import By"
   ]
  },
  {
   "cell_type": "markdown",
   "metadata": {},
   "source": [
    "### Getting books and reviews directly from goodreads."
   ]
  },
  {
   "cell_type": "code",
   "execution_count": 3,
   "metadata": {},
   "outputs": [],
   "source": [
    "hf = reload(hf)\n",
    "scr = reload(scr)"
   ]
  },
  {
   "cell_type": "code",
   "execution_count": 4,
   "metadata": {},
   "outputs": [],
   "source": [
    "popular_science_link = 'https://www.goodreads.com/shelf/show/popular-science'"
   ]
  },
  {
   "cell_type": "code",
   "execution_count": 5,
   "metadata": {},
   "outputs": [
    {
     "name": "stdout",
     "output_type": "stream",
     "text": [
      "Total number of books to web-scrap: 1250\n"
     ]
    }
   ],
   "source": [
    "# Download of book links.\n",
    "book_links_df = pd.read_csv('../data/big_dataset/book_links_goodreads.csv')\n",
    "book_links = list(book_links_df['0'])\n",
    "book_links_copy = book_links.copy()\n",
    "\n",
    "# removing author links from book_links list.\n",
    "for book_link in book_links.copy():\n",
    "    if 'author' in book_link:\n",
    "        book_links_copy.remove(book_link)\n",
    "\n",
    "book_links = book_links_copy.copy()\n",
    "\n",
    "print(f'Total number of books to web-scrap: {len(book_links)}')"
   ]
  },
  {
   "cell_type": "markdown",
   "metadata": {},
   "source": [
    "# Get information about the books"
   ]
  },
  {
   "cell_type": "code",
   "execution_count": 6,
   "metadata": {},
   "outputs": [],
   "source": [
    "# Open the web browser and log in to goodreads:\n",
    "chrome_options = webdriver.ChromeOptions()\n",
    "prefs = {\"profile.managed_default_content_settings.images\": 2}\n",
    "chrome_options.add_experimental_option(\"prefs\", prefs)\n",
    "driver = webdriver.Chrome(options=chrome_options)\n",
    "driver = scr.gr_sign_in(driver)"
   ]
  },
  {
   "cell_type": "code",
   "execution_count": 9,
   "metadata": {},
   "outputs": [],
   "source": [
    "# Script to scrap the books\n",
    "\n",
    "# Initializing the lists:\n",
    "books_arr = []\n",
    "failed_books_list = []\n",
    "\n",
    "for n in range(0, 1250, 50):\n",
    "    chunk_arr = []\n",
    "    for i, book_link in enumerate(book_links[n:n+50]):\n",
    "        sys.stdout.write(f'book n : {i}\\n')\n",
    "        try:\n",
    "            #Getting the soup:\n",
    "            soup, driver = scr.get_the_soup(book_link, driver)\n",
    "            dct = scr.get_book_info(book_link, soup)\n",
    "            isbn = dct['isbn']\n",
    "            reviews, driver = scr.get_reviews_from_book_link(isbn, book_link, driver)\n",
    "            chunk_arr.append(dct)\n",
    "        except:\n",
    "            failed_books_list.append(book_link)\n",
    "            print('!!!!!!!!!!!!!!!!!!! BOOK FAILED !!!!!!!!!!!!!!!!!!')\n",
    "    df = pd.DataFrame(chunk_arr)\n",
    "    df.to_csv(f'../data/gr_books_df_{n}.csv')\n",
    "    books_arr.extend(chunk_arr)\n",
    "\n",
    "all_books_df = pd.DataFrame(books_arr)\n",
    "all_books_df.to_csv(f'../data/all_books_df.csv') \n",
    "failed_books_df = pd.DataFrame(failed_books_list)\n",
    "failed_books_df.to_csv('../data/failed_books_list.csv')"
   ]
  },
  {
   "cell_type": "code",
   "execution_count": null,
   "metadata": {},
   "outputs": [],
   "source": []
  },
  {
   "cell_type": "code",
   "execution_count": null,
   "metadata": {},
   "outputs": [],
   "source": []
  }
 ],
 "metadata": {
  "kernelspec": {
   "display_name": "Python 3",
   "language": "python",
   "name": "python3"
  },
  "language_info": {
   "codemirror_mode": {
    "name": "ipython",
    "version": 3
   },
   "file_extension": ".py",
   "mimetype": "text/x-python",
   "name": "python",
   "nbconvert_exporter": "python",
   "pygments_lexer": "ipython3",
   "version": "3.7.7"
  }
 },
 "nbformat": 4,
 "nbformat_minor": 4
}
