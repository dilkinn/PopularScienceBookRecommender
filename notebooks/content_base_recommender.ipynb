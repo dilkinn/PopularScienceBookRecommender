{
 "cells": [
  {
   "cell_type": "code",
   "execution_count": 72,
   "metadata": {},
   "outputs": [],
   "source": [
    "import pandas as pd\n",
    "import numpy as np"
   ]
  },
  {
   "cell_type": "code",
   "execution_count": 73,
   "metadata": {},
   "outputs": [],
   "source": [
    "def repl(string):\n",
    "    string1 = string.replace(']','').replace('[', '').replace('\\'','')\n",
    "    return string1"
   ]
  },
  {
   "cell_type": "code",
   "execution_count": 106,
   "metadata": {},
   "outputs": [],
   "source": [
    "def one_decimal(rating):\n",
    "    return round(rating, 1)\n",
    "\n",
    "def categorize_ratings(df, col):\n",
    "    df[col] = df[col].apply(one_decimal)\n",
    "    return df\n",
    "def lower(text):\n",
    "    return text.lower()\n",
    "\n",
    "def lower_cols(df, cols):\n",
    "    for col in cols:\n",
    "        df[col] = df[col].apply(lower)\n",
    "    return df\n",
    "\n",
    "def remove_spaces(text):\n",
    "    text = text.replace(' ', '', 10)\n",
    "    return text\n",
    "\n",
    "def join_names(df, col):\n",
    "    df[col] = df[col].apply(remove_spaces)\n",
    "    return df\n",
    "\n",
    "def read_books_info(filespath='../data/small_dataset/'):\n",
    "    pattern = 'revs_*.csv'\n",
    "    print('Pattern :', pattern )\n",
    "\n",
    "    files = os.listdir(filespath) \n",
    "    dfs_files = []\n",
    "    for name in files: \n",
    "        if fnmatch.fnmatch(name, pattern):\n",
    "            dfs_files.append(name)\n",
    "    dfs_files\n",
    "    dfs_paths = []\n",
    "    for file in dfs_files:\n",
    "        dfs_paths.append(filespath + file)\n",
    "\n",
    "    revs_lst = []\n",
    "    for file in dfs_paths:\n",
    "        try:\n",
    "            revs_lst.append(pd.read_csv(file, usecols=[1,2,3]))\n",
    "        except:\n",
    "            print(f'file {file} failed')\n",
    "    print(len(revs_lst))\n",
    "    revs_df = pd.concat(revs_lst,axis=0)\n",
    "    \n",
    "   \n",
    "    return df"
   ]
  },
  {
   "cell_type": "code",
   "execution_count": 108,
   "metadata": {},
   "outputs": [],
   "source": [
    "books_df = pd.read_csv('../data/big_data_temp/gr_books_df_0.csv')\n",
    "books_df['author_names'] = books_df['author_names'].apply(repl)\n",
    "books_df = categorize_ratings(books_df,'avg_rating')\n",
    "books_df = books_df[['isbn', 'book_title', 'avg_rating', 'author_names', 'book_description']]\n",
    "books_df = lower_cols(books_df, ['book_title', 'author_names', 'book_description'])\n",
    "books_df = join_names(books_df, 'author_names')"
   ]
  },
  {
   "cell_type": "code",
   "execution_count": 112,
   "metadata": {},
   "outputs": [],
   "source": [
    "books_df['content'] = books_df['book_title'] + ' ' + books_df['author_names'] + ' ' + books_df['book_description']"
   ]
  },
  {
   "cell_type": "code",
   "execution_count": 113,
   "metadata": {},
   "outputs": [
    {
     "data": {
      "text/plain": [
       "0     a brief history of time stephenhawking in the ...\n",
       "1     a short history of nearly everything billbryso...\n",
       "2     the selfish gene richarddawkins the selfish ge...\n",
       "3     cosmos carlsagan cosmos has 13 heavily illustr...\n",
       "4     the man who mistook his wife for a hat and oth...\n",
       "                            ...                        \n",
       "80    superintelligence: paths, dangers, strategies ...\n",
       "81    the character of physical law richardp.feynman...\n",
       "82    other minds: the octopus, the sea, and the dee...\n",
       "83    the tell-tale brain: a neuroscientist's quest ...\n",
       "84    the big picture: on the origins of life, meani...\n",
       "Name: content, Length: 85, dtype: object"
      ]
     },
     "execution_count": 113,
     "metadata": {},
     "output_type": "execute_result"
    }
   ],
   "source": [
    "books_df['content']"
   ]
  },
  {
   "cell_type": "code",
   "execution_count": 146,
   "metadata": {},
   "outputs": [
    {
     "data": {
      "text/html": [
       "<div>\n",
       "<style scoped>\n",
       "    .dataframe tbody tr th:only-of-type {\n",
       "        vertical-align: middle;\n",
       "    }\n",
       "\n",
       "    .dataframe tbody tr th {\n",
       "        vertical-align: top;\n",
       "    }\n",
       "\n",
       "    .dataframe thead th {\n",
       "        text-align: right;\n",
       "    }\n",
       "</style>\n",
       "<table border=\"1\" class=\"dataframe\">\n",
       "  <thead>\n",
       "    <tr style=\"text-align: right;\">\n",
       "      <th></th>\n",
       "      <th>isbn</th>\n",
       "      <th>book_title</th>\n",
       "      <th>avg_rating</th>\n",
       "      <th>author_names</th>\n",
       "      <th>book_description</th>\n",
       "      <th>content</th>\n",
       "      <th>ability</th>\n",
       "      <th>accessible</th>\n",
       "      <th>acclaimed</th>\n",
       "      <th>advances</th>\n",
       "      <th>...</th>\n",
       "      <th>view</th>\n",
       "      <th>war</th>\n",
       "      <th>way</th>\n",
       "      <th>wit</th>\n",
       "      <th>work</th>\n",
       "      <th>works</th>\n",
       "      <th>world</th>\n",
       "      <th>years</th>\n",
       "      <th>york</th>\n",
       "      <th>young</th>\n",
       "    </tr>\n",
       "  </thead>\n",
       "  <tbody>\n",
       "    <tr>\n",
       "      <th>0</th>\n",
       "      <td>0553380168</td>\n",
       "      <td>a brief history of time</td>\n",
       "      <td>4.2</td>\n",
       "      <td>stephenhawking</td>\n",
       "      <td>in the ten years since its publication in 1988...</td>\n",
       "      <td>a brief history of time stephenhawking in the ...</td>\n",
       "      <td>0.0</td>\n",
       "      <td>0.0</td>\n",
       "      <td>0.0</td>\n",
       "      <td>0.15334</td>\n",
       "      <td>...</td>\n",
       "      <td>0.0</td>\n",
       "      <td>0.0</td>\n",
       "      <td>0.000000</td>\n",
       "      <td>0.0</td>\n",
       "      <td>0.105324</td>\n",
       "      <td>0.0</td>\n",
       "      <td>0.000000</td>\n",
       "      <td>0.298464</td>\n",
       "      <td>0.0</td>\n",
       "      <td>0.0</td>\n",
       "    </tr>\n",
       "    <tr>\n",
       "      <th>1</th>\n",
       "      <td>076790818X</td>\n",
       "      <td>a short history of nearly everything</td>\n",
       "      <td>4.2</td>\n",
       "      <td>billbryson</td>\n",
       "      <td>in bryson's biggest book, he confronts his gre...</td>\n",
       "      <td>a short history of nearly everything billbryso...</td>\n",
       "      <td>0.0</td>\n",
       "      <td>0.0</td>\n",
       "      <td>0.0</td>\n",
       "      <td>0.00000</td>\n",
       "      <td>...</td>\n",
       "      <td>0.0</td>\n",
       "      <td>0.0</td>\n",
       "      <td>0.000000</td>\n",
       "      <td>0.0</td>\n",
       "      <td>0.000000</td>\n",
       "      <td>0.0</td>\n",
       "      <td>0.092611</td>\n",
       "      <td>0.000000</td>\n",
       "      <td>0.0</td>\n",
       "      <td>0.0</td>\n",
       "    </tr>\n",
       "    <tr>\n",
       "      <th>2</th>\n",
       "      <td>0199291152</td>\n",
       "      <td>the selfish gene</td>\n",
       "      <td>4.1</td>\n",
       "      <td>richarddawkins</td>\n",
       "      <td>the selfish gene: 30th anniversary edition—wit...</td>\n",
       "      <td>the selfish gene richarddawkins the selfish ge...</td>\n",
       "      <td>0.0</td>\n",
       "      <td>0.0</td>\n",
       "      <td>0.0</td>\n",
       "      <td>0.00000</td>\n",
       "      <td>...</td>\n",
       "      <td>0.0</td>\n",
       "      <td>0.0</td>\n",
       "      <td>0.338669</td>\n",
       "      <td>0.0</td>\n",
       "      <td>0.110650</td>\n",
       "      <td>0.0</td>\n",
       "      <td>0.070817</td>\n",
       "      <td>0.104518</td>\n",
       "      <td>0.0</td>\n",
       "      <td>0.0</td>\n",
       "    </tr>\n",
       "  </tbody>\n",
       "</table>\n",
       "<p>3 rows × 206 columns</p>\n",
       "</div>"
      ],
      "text/plain": [
       "         isbn                            book_title  avg_rating  \\\n",
       "0  0553380168               a brief history of time         4.2   \n",
       "1  076790818X  a short history of nearly everything         4.2   \n",
       "2  0199291152                      the selfish gene         4.1   \n",
       "\n",
       "     author_names                                   book_description  \\\n",
       "0  stephenhawking  in the ten years since its publication in 1988...   \n",
       "1      billbryson  in bryson's biggest book, he confronts his gre...   \n",
       "2  richarddawkins  the selfish gene: 30th anniversary edition—wit...   \n",
       "\n",
       "                                             content  ability  accessible  \\\n",
       "0  a brief history of time stephenhawking in the ...      0.0         0.0   \n",
       "1  a short history of nearly everything billbryso...      0.0         0.0   \n",
       "2  the selfish gene richarddawkins the selfish ge...      0.0         0.0   \n",
       "\n",
       "   acclaimed  advances  ...  view  war       way  wit      work  works  \\\n",
       "0        0.0   0.15334  ...   0.0  0.0  0.000000  0.0  0.105324    0.0   \n",
       "1        0.0   0.00000  ...   0.0  0.0  0.000000  0.0  0.000000    0.0   \n",
       "2        0.0   0.00000  ...   0.0  0.0  0.338669  0.0  0.110650    0.0   \n",
       "\n",
       "      world     years  york  young  \n",
       "0  0.000000  0.298464   0.0    0.0  \n",
       "1  0.092611  0.000000   0.0    0.0  \n",
       "2  0.070817  0.104518   0.0    0.0  \n",
       "\n",
       "[3 rows x 206 columns]"
      ]
     },
     "execution_count": 146,
     "metadata": {},
     "output_type": "execute_result"
    }
   ],
   "source": [
    "books_df.head(3)"
   ]
  },
  {
   "cell_type": "code",
   "execution_count": 138,
   "metadata": {},
   "outputs": [],
   "source": [
    "from sklearn.feature_extraction.text import TfidfVectorizer\n",
    "\n",
    "tf = TfidfVectorizer(analyzer='word', ngram_range=(1, 1), min_df=0, stop_words='english', max_features=200)\n",
    "tfidf_matrix = tf.fit_transform(books_df['content'])\n",
    "\n",
    "# tf.stop_words_\n",
    "# tf.vocabulary_\n",
    "tfidf_df = pd.DataFrame(tfidf_matrix.toarray(), columns=tf.get_feature_names())\n",
    "books_df = pd.concat([books_df,tfidf_df], axis=1)\n",
    "features = tf.get_feature_names()"
   ]
  },
  {
   "cell_type": "code",
   "execution_count": 139,
   "metadata": {},
   "outputs": [],
   "source": [
    "reviews_df = pd.read_csv('../data/small_dataset/reviews.csv')"
   ]
  },
  {
   "cell_type": "code",
   "execution_count": 158,
   "metadata": {},
   "outputs": [
    {
     "name": "stdout",
     "output_type": "stream",
     "text": [
      "4038 93 375534\n"
     ]
    }
   ],
   "source": [
    "num_users = len(reviews_df.UserID.unique())\n",
    "num_books = len(reviews_df.ISBN.unique())\n",
    "print(num_users, num_books, num_users*num_books)\n",
    "isbns = list(reviews_df.ISBN)\n",
    "users = list(reviews_df.UserID)\n",
    "\n",
    "user_isbn = zip(users, isbns)"
   ]
  },
  {
   "cell_type": "code",
   "execution_count": 142,
   "metadata": {},
   "outputs": [],
   "source": [
    "from lightfm import LightFM\n",
    "from lightfm.data import Dataset"
   ]
  },
  {
   "cell_type": "code",
   "execution_count": 145,
   "metadata": {},
   "outputs": [],
   "source": [
    "dataset = Dataset()\n",
    "dataset.fit(reviews_df['UserID'],reviews_df['ISBN'])"
   ]
  },
  {
   "cell_type": "code",
   "execution_count": 148,
   "metadata": {},
   "outputs": [],
   "source": [
    "dataset.fit_partial(items=books_df['isbn'], users=reviews_df['UserID'], item_features=features, user_features=None)"
   ]
  },
  {
   "cell_type": "code",
   "execution_count": 160,
   "metadata": {},
   "outputs": [],
   "source": [
    "(interactions, weights) = dataset.build_interactions(user_isbn)"
   ]
  },
  {
   "cell_type": "code",
   "execution_count": 147,
   "metadata": {},
   "outputs": [
    {
     "ename": "TypeError",
     "evalue": "build_item_features() got an unexpected keyword argument 'items'",
     "output_type": "error",
     "traceback": [
      "\u001b[0;31m-------------------------------------------------------------------------\u001b[0m",
      "\u001b[0;31mTypeError\u001b[0m                               Traceback (most recent call last)",
      "\u001b[0;32m<ipython-input-147-810842b58e69>\u001b[0m in \u001b[0;36m<module>\u001b[0;34m\u001b[0m\n\u001b[0;32m----> 1\u001b[0;31m \u001b[0mitem_features\u001b[0m \u001b[0;34m=\u001b[0m \u001b[0mdataset\u001b[0m\u001b[0;34m.\u001b[0m\u001b[0mbuild_item_features\u001b[0m\u001b[0;34m(\u001b[0m\u001b[0mitems\u001b[0m \u001b[0;34m=\u001b[0m \u001b[0mbooks_df\u001b[0m\u001b[0;34m[\u001b[0m\u001b[0;34m'isbn'\u001b[0m\u001b[0;34m]\u001b[0m\u001b[0;34m,\u001b[0m \u001b[0mitem_features\u001b[0m \u001b[0;34m=\u001b[0m \u001b[0mfeatures\u001b[0m\u001b[0;34m)\u001b[0m\u001b[0;34m\u001b[0m\u001b[0;34m\u001b[0m\u001b[0m\n\u001b[0m\u001b[1;32m      2\u001b[0m \u001b[0mX\u001b[0m \u001b[0;34m=\u001b[0m \u001b[0mzip\u001b[0m\u001b[0;34m(\u001b[0m\u001b[0mreviews_df\u001b[0m\u001b[0;34m[\u001b[0m\u001b[0;34m'ISBN'\u001b[0m\u001b[0;34m]\u001b[0m\u001b[0;34m)\u001b[0m\u001b[0;34m,\u001b[0m \u001b[0mreviews_df\u001b[0m\u001b[0;34m[\u001b[0m\u001b[0;34m'UserID'\u001b[0m\u001b[0;34m]\u001b[0m\u001b[0;34m\u001b[0m\u001b[0;34m\u001b[0m\u001b[0m\n",
      "\u001b[0;31mTypeError\u001b[0m: build_item_features() got an unexpected keyword argument 'items'"
     ]
    }
   ],
   "source": [
    "item_features = dataset.build_item_features(items = books_df['isbn'], item_features = features)"
   ]
  },
  {
   "cell_type": "code",
   "execution_count": null,
   "metadata": {},
   "outputs": [],
   "source": [
    "X = zip(reviews_df['ISBN']), reviews_df['UserID']"
   ]
  },
  {
   "cell_type": "code",
   "execution_count": 46,
   "metadata": {},
   "outputs": [],
   "source": [
    "avg_ratings = list(books_df['avg_rating'].unique())\n",
    "book_titles = list(books_df['book_title'].unique())\n",
    "author_names = list(books_df['book_title'].unique())\n",
    "cat_features = avg_ratings + book_titles + author_names"
   ]
  }
 ],
 "metadata": {
  "kernelspec": {
   "display_name": "Python 3",
   "language": "python",
   "name": "python3"
  },
  "language_info": {
   "codemirror_mode": {
    "name": "ipython",
    "version": 3
   },
   "file_extension": ".py",
   "mimetype": "text/x-python",
   "name": "python",
   "nbconvert_exporter": "python",
   "pygments_lexer": "ipython3",
   "version": "3.7.7"
  }
 },
 "nbformat": 4,
 "nbformat_minor": 4
}
