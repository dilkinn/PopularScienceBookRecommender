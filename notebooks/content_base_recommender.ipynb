{
 "cells": [
  {
   "cell_type": "code",
   "execution_count": 72,
   "metadata": {},
   "outputs": [],
   "source": [
    "import pandas as pd\n",
    "import numpy as np"
   ]
  },
  {
   "cell_type": "code",
   "execution_count": 73,
   "metadata": {},
   "outputs": [],
   "source": [
    "def repl(string):\n",
    "    string1 = string.replace(']','').replace('[', '').replace('\\'','')\n",
    "    return string1"
   ]
  },
  {
   "cell_type": "code",
   "execution_count": 106,
   "metadata": {},
   "outputs": [],
   "source": [
    "def one_decimal(rating):\n",
    "    return round(rating, 1)\n",
    "\n",
    "def categorize_ratings(df, col):\n",
    "    df[col] = df[col].apply(one_decimal)\n",
    "    return df\n",
    "def lower(text):\n",
    "    return text.lower()\n",
    "\n",
    "def lower_cols(df, cols):\n",
    "    for col in cols:\n",
    "        df[col] = df[col].apply(lower)\n",
    "    return df\n",
    "\n",
    "def remove_spaces(text):\n",
    "    text = text.replace(' ', '', 10)\n",
    "    return text\n",
    "\n",
    "def join_names(df, col):\n",
    "    df[col] = df[col].apply(remove_spaces)\n",
    "    return df\n",
    "\n"
   ]
  },
  {
   "cell_type": "code",
   "execution_count": 107,
   "metadata": {},
   "outputs": [
    {
     "data": {
      "text/plain": [
       "'stephenhawking'"
      ]
     },
     "execution_count": 107,
     "metadata": {},
     "output_type": "execute_result"
    }
   ],
   "source": [
    "remove_spaces('stephen hawking')"
   ]
  },
  {
   "cell_type": "code",
   "execution_count": 108,
   "metadata": {},
   "outputs": [],
   "source": [
    "books_df = pd.read_csv('../data/small_dataset/gr_books_df_0.csv')\n",
    "books_df['author_names'] = books_df['author_names'].apply(repl)\n",
    "books_df = categorize_ratings(books_df,'avg_rating')\n",
    "books_df = books_df[['isbn', 'book_title', 'avg_rating', 'author_names', 'book_description']]\n",
    "books_df = lower_cols(books_df, ['book_title', 'author_names', 'book_description'])\n",
    "books_df = join_names(books_df, 'author_names')"
   ]
  },
  {
   "cell_type": "code",
   "execution_count": 112,
   "metadata": {},
   "outputs": [],
   "source": [
    "books_df['content'] = books_df['book_title'] + ' ' + books_df['author_names'] + ' ' + books_df['book_description']"
   ]
  },
  {
   "cell_type": "code",
   "execution_count": 113,
   "metadata": {},
   "outputs": [
    {
     "data": {
      "text/plain": [
       "0     a brief history of time stephenhawking in the ...\n",
       "1     a short history of nearly everything billbryso...\n",
       "2     the selfish gene richarddawkins the selfish ge...\n",
       "3     cosmos carlsagan cosmos has 13 heavily illustr...\n",
       "4     the man who mistook his wife for a hat and oth...\n",
       "                            ...                        \n",
       "80    superintelligence: paths, dangers, strategies ...\n",
       "81    the character of physical law richardp.feynman...\n",
       "82    other minds: the octopus, the sea, and the dee...\n",
       "83    the tell-tale brain: a neuroscientist's quest ...\n",
       "84    the big picture: on the origins of life, meani...\n",
       "Name: content, Length: 85, dtype: object"
      ]
     },
     "execution_count": 113,
     "metadata": {},
     "output_type": "execute_result"
    }
   ],
   "source": [
    "books_df['content']"
   ]
  },
  {
   "cell_type": "code",
   "execution_count": 49,
   "metadata": {},
   "outputs": [],
   "source": [
    "corpus = np.array(books_df['book_title'])"
   ]
  },
  {
   "cell_type": "code",
   "execution_count": 53,
   "metadata": {},
   "outputs": [],
   "source": [
    "title = books_df['book_title'][1]"
   ]
  },
  {
   "cell_type": "code",
   "execution_count": 71,
   "metadata": {},
   "outputs": [
    {
     "name": "stdout",
     "output_type": "stream",
     "text": [
      "None\n"
     ]
    }
   ],
   "source": [
    "from sklearn.feature_extraction.text import TfidfVectorizer\n",
    "tfidf = TfidfVectorizer()\n",
    "\n",
    "tfidf.fit(corpus)\n",
    "document_tfidf_matrix = tfidf.transform(corpus)\n",
    "\n",
    "print(tfidf.get_stop_words())\n",
    "vocab = sorted(tfidf.vocabulary_)"
   ]
  },
  {
   "cell_type": "code",
   "execution_count": 46,
   "metadata": {},
   "outputs": [],
   "source": [
    "avg_ratings = list(books_df['avg_rating'].unique())\n",
    "book_titles = list(books_df['book_title'].unique())\n",
    "author_names = list(books_df['book_title'].unique())\n",
    "cat_features = avg_ratings + book_titles + author_names"
   ]
  }
 ],
 "metadata": {
  "kernelspec": {
   "display_name": "Python 3",
   "language": "python",
   "name": "python3"
  },
  "language_info": {
   "codemirror_mode": {
    "name": "ipython",
    "version": 3
   },
   "file_extension": ".py",
   "mimetype": "text/x-python",
   "name": "python",
   "nbconvert_exporter": "python",
   "pygments_lexer": "ipython3",
   "version": "3.7.7"
  }
 },
 "nbformat": 4,
 "nbformat_minor": 4
}
