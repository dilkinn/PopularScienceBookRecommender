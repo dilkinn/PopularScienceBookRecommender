{
  "nbformat": 4,
  "nbformat_minor": 0,
  "metadata": {
    "kernelspec": {
      "display_name": "Python 3",
      "language": "python",
      "name": "python3"
    },
    "language_info": {
      "codemirror_mode": {
        "name": "ipython",
        "version": 3
      },
      "file_extension": ".py",
      "mimetype": "text/x-python",
      "name": "python",
      "nbconvert_exporter": "python",
      "pygments_lexer": "ipython3",
      "version": "3.7.7"
    },
    "colab": {
      "name": "data_cleaning_surprise_model-Copy1.ipynb",
      "provenance": [],
      "collapsed_sections": []
    }
  },
  "cells": [
    {
      "cell_type": "code",
      "metadata": {
        "id": "AmwadB5mc68s",
        "colab_type": "code",
        "colab": {}
      },
      "source": [
        "import pandas as pd\n",
        "import numpy as np"
      ],
      "execution_count": 2,
      "outputs": []
    },
    {
      "cell_type": "code",
      "metadata": {
        "id": "j2bgGGZIc68v",
        "colab_type": "code",
        "colab": {},
        "outputId": "35b57fa2-095d-49c5-9bc0-d827afb31688"
      },
      "source": [
        "import fnmatch \n",
        "import os \n",
        "  \n",
        "pattern = 'revs_*.csv'\n",
        "print('Pattern :', pattern )\n",
        "  \n",
        "files = os.listdir('../data/small_dataset/') \n",
        "dfs_files = []\n",
        "for name in files: \n",
        "    if fnmatch.fnmatch(name, pattern):\n",
        "        dfs_files.append(name)\n",
        "dfs_files\n",
        "dfs_paths = []\n",
        "for file in dfs_files:\n",
        "    dfs_paths.append('../data/small_dataset/' + file)"
      ],
      "execution_count": null,
      "outputs": [
        {
          "output_type": "stream",
          "text": [
            "Pattern : revs_*.csv\n"
          ],
          "name": "stdout"
        }
      ]
    },
    {
      "cell_type": "code",
      "metadata": {
        "id": "COoLUHPoc68x",
        "colab_type": "code",
        "colab": {},
        "outputId": "1c40e48c-44e1-4dc4-fb60-04bf584af21b"
      },
      "source": [
        "revs_dfs = []\n",
        "for file in dfs_paths:\n",
        "    revs_dfs.append(pd.read_csv(file))\n",
        "    \n",
        "revs_df = pd.concat(revs_dfs)\n",
        "\n",
        "revs_df['UserID'] = revs_df.user_link.astype('category').cat.codes\n",
        "\n",
        "revs_df.info()\n",
        "\n",
        "revsdf = revs_df[['isbn','UserID','ranking']]\n",
        "\n",
        "reviews_df = revsdf.rename(columns={\"ranking\":\"Rating\", 'isbn':'ISBN'})\n",
        "reveiws_df.to_csv()"
      ],
      "execution_count": null,
      "outputs": [
        {
          "output_type": "stream",
          "text": [
            "<class 'pandas.core.frame.DataFrame'>\n",
            "Int64Index: 18550 entries, 0 to 59\n",
            "Data columns (total 6 columns):\n",
            " #   Column      Non-Null Count  Dtype  \n",
            "---  ------      --------------  -----  \n",
            " 0   Unnamed: 0  18550 non-null  object \n",
            " 1   isbn        18550 non-null  object \n",
            " 2   user_link   18550 non-null  object \n",
            " 3   ranking     18550 non-null  float64\n",
            " 4   review      18550 non-null  object \n",
            " 5   UserID      18550 non-null  int16  \n",
            "dtypes: float64(1), int16(1), object(4)\n",
            "memory usage: 905.8+ KB\n"
          ],
          "name": "stdout"
        }
      ]
    },
    {
      "cell_type": "code",
      "metadata": {
        "id": "NlAcAU_EddRx",
        "colab_type": "code",
        "colab": {}
      },
      "source": [
        "reviews_df = pd.read_csv(\"reviews.csv\",index_col=0)"
      ],
      "execution_count": 16,
      "outputs": []
    },
    {
      "cell_type": "code",
      "metadata": {
        "id": "HQjBcjv_c682",
        "colab_type": "code",
        "colab": {
          "base_uri": "https://localhost:8080/",
          "height": 221
        },
        "outputId": "fceb3a2f-d2ce-4afd-cb4c-ccef244eb3fe"
      },
      "source": [
        "reviews_df['ISBN'].value_counts()"
      ],
      "execution_count": 17,
      "outputs": [
        {
          "output_type": "execute_result",
          "data": {
            "text/plain": [
              "307265633    75\n",
              "375424474    75\n",
              "306817586    75\n",
              "143122010    75\n",
              "465023924    75\n",
              "             ..\n",
              "62490427      8\n",
              "399184414     8\n",
              "739467352     8\n",
              "62368591      8\n",
              "465026567     8\n",
              "Name: ISBN, Length: 93, dtype: int64"
            ]
          },
          "metadata": {
            "tags": []
          },
          "execution_count": 17
        }
      ]
    },
    {
      "cell_type": "code",
      "metadata": {
        "id": "Cz2CzDCkc687",
        "colab_type": "code",
        "colab": {
          "base_uri": "https://localhost:8080/",
          "height": 297
        },
        "outputId": "308f103a-b794-489c-a50e-124bf87c1081"
      },
      "source": [
        "reviews_df.describe()"
      ],
      "execution_count": 18,
      "outputs": [
        {
          "output_type": "execute_result",
          "data": {
            "text/html": [
              "<div>\n",
              "<style scoped>\n",
              "    .dataframe tbody tr th:only-of-type {\n",
              "        vertical-align: middle;\n",
              "    }\n",
              "\n",
              "    .dataframe tbody tr th {\n",
              "        vertical-align: top;\n",
              "    }\n",
              "\n",
              "    .dataframe thead th {\n",
              "        text-align: right;\n",
              "    }\n",
              "</style>\n",
              "<table border=\"1\" class=\"dataframe\">\n",
              "  <thead>\n",
              "    <tr style=\"text-align: right;\">\n",
              "      <th></th>\n",
              "      <th>UserID</th>\n",
              "      <th>Rating</th>\n",
              "    </tr>\n",
              "  </thead>\n",
              "  <tbody>\n",
              "    <tr>\n",
              "      <th>count</th>\n",
              "      <td>4406.000000</td>\n",
              "      <td>4406.000000</td>\n",
              "    </tr>\n",
              "    <tr>\n",
              "      <th>mean</th>\n",
              "      <td>6913.781207</td>\n",
              "      <td>3.960508</td>\n",
              "    </tr>\n",
              "    <tr>\n",
              "      <th>std</th>\n",
              "      <td>4002.581711</td>\n",
              "      <td>1.027558</td>\n",
              "    </tr>\n",
              "    <tr>\n",
              "      <th>min</th>\n",
              "      <td>5.000000</td>\n",
              "      <td>1.000000</td>\n",
              "    </tr>\n",
              "    <tr>\n",
              "      <th>25%</th>\n",
              "      <td>3527.000000</td>\n",
              "      <td>3.000000</td>\n",
              "    </tr>\n",
              "    <tr>\n",
              "      <th>50%</th>\n",
              "      <td>6845.000000</td>\n",
              "      <td>4.000000</td>\n",
              "    </tr>\n",
              "    <tr>\n",
              "      <th>75%</th>\n",
              "      <td>10373.750000</td>\n",
              "      <td>5.000000</td>\n",
              "    </tr>\n",
              "    <tr>\n",
              "      <th>max</th>\n",
              "      <td>13928.000000</td>\n",
              "      <td>5.000000</td>\n",
              "    </tr>\n",
              "  </tbody>\n",
              "</table>\n",
              "</div>"
            ],
            "text/plain": [
              "             UserID       Rating\n",
              "count   4406.000000  4406.000000\n",
              "mean    6913.781207     3.960508\n",
              "std     4002.581711     1.027558\n",
              "min        5.000000     1.000000\n",
              "25%     3527.000000     3.000000\n",
              "50%     6845.000000     4.000000\n",
              "75%    10373.750000     5.000000\n",
              "max    13928.000000     5.000000"
            ]
          },
          "metadata": {
            "tags": []
          },
          "execution_count": 18
        }
      ]
    },
    {
      "cell_type": "code",
      "metadata": {
        "id": "b5B5pJxBc689",
        "colab_type": "code",
        "colab": {
          "base_uri": "https://localhost:8080/",
          "height": 332
        },
        "outputId": "e3c460a5-6cc3-49a3-f3ea-913a71e6e08b"
      },
      "source": [
        "reviews_df.hist()"
      ],
      "execution_count": 19,
      "outputs": [
        {
          "output_type": "execute_result",
          "data": {
            "text/plain": [
              "array([[<matplotlib.axes._subplots.AxesSubplot object at 0x7f74553fe8d0>,\n",
              "        <matplotlib.axes._subplots.AxesSubplot object at 0x7f74553d6ba8>]],\n",
              "      dtype=object)"
            ]
          },
          "metadata": {
            "tags": []
          },
          "execution_count": 19
        },
        {
          "output_type": "display_data",
          "data": {
            "image/png": "[encoded data removed]",
            "text/plain": [
              "<Figure size 432x288 with 2 Axes>"
            ]
          },
          "metadata": {
            "tags": [],
            "needs_background": "light"
          }
        }
      ]
    },
    {
      "cell_type": "code",
      "metadata": {
        "id": "7GKxIuBMd_ZG",
        "colab_type": "code",
        "colab": {
          "base_uri": "https://localhost:8080/",
          "height": 275
        },
        "outputId": "f681a31c-7fb8-4678-dbd7-de845c44fb1c"
      },
      "source": [
        "! pip3 install scikit-surprise"
      ],
      "execution_count": 20,
      "outputs": [
        {
          "output_type": "stream",
          "text": [
            "Collecting scikit-surprise\n",
            "\u001b[?25l  Downloading https://files.pythonhosted.org/packages/97/37/5d334adaf5ddd65da99fc65f6507e0e4599d092ba048f4302fe8775619e8/scikit-surprise-1.1.1.tar.gz (11.8MB)\n",
            "\u001b[K     |████████████████████████████████| 11.8MB 331kB/s \n",
            "\u001b[?25hRequirement already satisfied: joblib>=0.11 in /usr/local/lib/python3.6/dist-packages (from scikit-surprise) (0.16.0)\n",
            "Requirement already satisfied: numpy>=1.11.2 in /usr/local/lib/python3.6/dist-packages (from scikit-surprise) (1.18.5)\n",
            "Requirement already satisfied: scipy>=1.0.0 in /usr/local/lib/python3.6/dist-packages (from scikit-surprise) (1.4.1)\n",
            "Requirement already satisfied: six>=1.10.0 in /usr/local/lib/python3.6/dist-packages (from scikit-surprise) (1.15.0)\n",
            "Building wheels for collected packages: scikit-surprise\n",
            "  Building wheel for scikit-surprise (setup.py) ... \u001b[?25l\u001b[?25hdone\n",
            "  Created wheel for scikit-surprise: filename=scikit_surprise-1.1.1-cp36-cp36m-linux_x86_64.whl size=1670903 sha256=8ce99d08d2db89df185c283bb41d7c90b1d698b7beccb23c0b9f2ad893caefad\n",
            "  Stored in directory: /root/.cache/pip/wheels/78/9c/3d/41b419c9d2aff5b6e2b4c0fc8d25c538202834058f9ed110d0\n",
            "Successfully built scikit-surprise\n",
            "Installing collected packages: scikit-surprise\n",
            "Successfully installed scikit-surprise-1.1.1\n"
          ],
          "name": "stdout"
        }
      ]
    },
    {
      "cell_type": "code",
      "metadata": {
        "id": "lT2Pivd2c68_",
        "colab_type": "code",
        "colab": {}
      },
      "source": [
        "from surprise import Reader, Dataset, Trainset, accuracy, SVD, SVDpp\n",
        "\n",
        "from surprise.prediction_algorithms import KNNWithMeans, KNNBasic, \\\n",
        "                                            KNNBaseline, SVDpp, SlopeOne, \\\n",
        "                                            NMF, NormalPredictor, KNNWithZScore, \\\n",
        "                                            BaselineOnly, CoClustering, SVD\n",
        "from surprise.model_selection import cross_validate, train_test_split, \\\n",
        "                                    GridSearchCV, RandomizedSearchCV, KFold"
      ],
      "execution_count": 21,
      "outputs": []
    },
    {
      "cell_type": "code",
      "metadata": {
        "id": "5zI_SVnec69B",
        "colab_type": "code",
        "colab": {}
      },
      "source": [
        "reader = Reader(rating_scale=(1, 5))\n",
        "data = Dataset.load_from_df(reviews_df[[ 'UserID', 'ISBN', 'Rating']], reader)"
      ],
      "execution_count": 22,
      "outputs": []
    },
    {
      "cell_type": "code",
      "metadata": {
        "id": "A_dl0GfMc69D",
        "colab_type": "code",
        "colab": {
          "base_uri": "https://localhost:8080/",
          "height": 931
        },
        "outputId": "e752d38b-059d-43b4-ff4d-bc20bd7b98db"
      },
      "source": [
        "benchmark = []\n",
        "# Iterate over all algorithms\n",
        "for algorithm in [SVD(), SVDpp(), SlopeOne(), NMF(), NormalPredictor(), \\\n",
        "                  KNNBaseline(), KNNBasic(), KNNWithMeans(), KNNWithZScore(), \\\n",
        "                  BaselineOnly(), CoClustering()]:\n",
        "    # Perform cross validation\n",
        "    results = cross_validate(algorithm, data, measures=['RMSE'], cv=3, verbose=False)\n",
        "    # Get results & append algorithm name\n",
        "    tmp = pd.DataFrame.from_dict(results).mean(axis=0)\n",
        "    tmp = tmp.append(pd.Series([str(algorithm).split(' ')[0].split('.')[-1]], index=['Algorithm']))\n",
        "    benchmark.append(tmp)\n",
        "pd.DataFrame(benchmark).set_index('Algorithm').sort_values('test_rmse')"
      ],
      "execution_count": 23,
      "outputs": [
        {
          "output_type": "stream",
          "text": [
            "Estimating biases using als...\n",
            "Computing the msd similarity matrix...\n",
            "Done computing similarity matrix.\n",
            "Estimating biases using als...\n",
            "Computing the msd similarity matrix...\n",
            "Done computing similarity matrix.\n",
            "Estimating biases using als...\n",
            "Computing the msd similarity matrix...\n",
            "Done computing similarity matrix.\n",
            "Computing the msd similarity matrix...\n",
            "Done computing similarity matrix.\n",
            "Computing the msd similarity matrix...\n",
            "Done computing similarity matrix.\n",
            "Computing the msd similarity matrix...\n",
            "Done computing similarity matrix.\n",
            "Computing the msd similarity matrix...\n",
            "Done computing similarity matrix.\n",
            "Computing the msd similarity matrix...\n",
            "Done computing similarity matrix.\n",
            "Computing the msd similarity matrix...\n",
            "Done computing similarity matrix.\n",
            "Computing the msd similarity matrix...\n",
            "Done computing similarity matrix.\n",
            "Computing the msd similarity matrix...\n",
            "Done computing similarity matrix.\n",
            "Computing the msd similarity matrix...\n",
            "Done computing similarity matrix.\n",
            "Estimating biases using als...\n",
            "Estimating biases using als...\n",
            "Estimating biases using als...\n"
          ],
          "name": "stdout"
        },
        {
          "output_type": "execute_result",
          "data": {
            "text/html": [
              "<div>\n",
              "<style scoped>\n",
              "    .dataframe tbody tr th:only-of-type {\n",
              "        vertical-align: middle;\n",
              "    }\n",
              "\n",
              "    .dataframe tbody tr th {\n",
              "        vertical-align: top;\n",
              "    }\n",
              "\n",
              "    .dataframe thead th {\n",
              "        text-align: right;\n",
              "    }\n",
              "</style>\n",
              "<table border=\"1\" class=\"dataframe\">\n",
              "  <thead>\n",
              "    <tr style=\"text-align: right;\">\n",
              "      <th></th>\n",
              "      <th>test_rmse</th>\n",
              "      <th>fit_time</th>\n",
              "      <th>test_time</th>\n",
              "    </tr>\n",
              "    <tr>\n",
              "      <th>Algorithm</th>\n",
              "      <th></th>\n",
              "      <th></th>\n",
              "      <th></th>\n",
              "    </tr>\n",
              "  </thead>\n",
              "  <tbody>\n",
              "    <tr>\n",
              "      <th>BaselineOnly</th>\n",
              "      <td>0.987157</td>\n",
              "      <td>0.009246</td>\n",
              "      <td>0.007733</td>\n",
              "    </tr>\n",
              "    <tr>\n",
              "      <th>SVDpp</th>\n",
              "      <td>0.988696</td>\n",
              "      <td>0.315502</td>\n",
              "      <td>0.009690</td>\n",
              "    </tr>\n",
              "    <tr>\n",
              "      <th>SVD</th>\n",
              "      <td>0.992256</td>\n",
              "      <td>0.207973</td>\n",
              "      <td>0.008148</td>\n",
              "    </tr>\n",
              "    <tr>\n",
              "      <th>KNNBaseline</th>\n",
              "      <td>0.995824</td>\n",
              "      <td>0.239820</td>\n",
              "      <td>0.017021</td>\n",
              "    </tr>\n",
              "    <tr>\n",
              "      <th>KNNBasic</th>\n",
              "      <td>1.033369</td>\n",
              "      <td>0.218096</td>\n",
              "      <td>0.018039</td>\n",
              "    </tr>\n",
              "    <tr>\n",
              "      <th>CoClustering</th>\n",
              "      <td>1.042255</td>\n",
              "      <td>0.274031</td>\n",
              "      <td>0.006768</td>\n",
              "    </tr>\n",
              "    <tr>\n",
              "      <th>KNNWithMeans</th>\n",
              "      <td>1.042721</td>\n",
              "      <td>0.251996</td>\n",
              "      <td>0.022416</td>\n",
              "    </tr>\n",
              "    <tr>\n",
              "      <th>KNNWithZScore</th>\n",
              "      <td>1.052998</td>\n",
              "      <td>0.320071</td>\n",
              "      <td>0.018777</td>\n",
              "    </tr>\n",
              "    <tr>\n",
              "      <th>NMF</th>\n",
              "      <td>1.058474</td>\n",
              "      <td>0.347872</td>\n",
              "      <td>0.007823</td>\n",
              "    </tr>\n",
              "    <tr>\n",
              "      <th>SlopeOne</th>\n",
              "      <td>1.059373</td>\n",
              "      <td>0.025542</td>\n",
              "      <td>0.008570</td>\n",
              "    </tr>\n",
              "    <tr>\n",
              "      <th>NormalPredictor</th>\n",
              "      <td>1.367002</td>\n",
              "      <td>0.003915</td>\n",
              "      <td>0.010752</td>\n",
              "    </tr>\n",
              "  </tbody>\n",
              "</table>\n",
              "</div>"
            ],
            "text/plain": [
              "                 test_rmse  fit_time  test_time\n",
              "Algorithm                                      \n",
              "BaselineOnly      0.987157  0.009246   0.007733\n",
              "SVDpp             0.988696  0.315502   0.009690\n",
              "SVD               0.992256  0.207973   0.008148\n",
              "KNNBaseline       0.995824  0.239820   0.017021\n",
              "KNNBasic          1.033369  0.218096   0.018039\n",
              "CoClustering      1.042255  0.274031   0.006768\n",
              "KNNWithMeans      1.042721  0.251996   0.022416\n",
              "KNNWithZScore     1.052998  0.320071   0.018777\n",
              "NMF               1.058474  0.347872   0.007823\n",
              "SlopeOne          1.059373  0.025542   0.008570\n",
              "NormalPredictor   1.367002  0.003915   0.010752"
            ]
          },
          "metadata": {
            "tags": []
          },
          "execution_count": 23
        }
      ]
    },
    {
      "cell_type": "code",
      "metadata": {
        "id": "sBFkQm4Zc69G",
        "colab_type": "code",
        "colab": {
          "base_uri": "https://localhost:8080/",
          "height": 419
        },
        "outputId": "9ff5615e-84cd-4d9d-dc30-24fb4cc75d0a"
      },
      "source": [
        "reviews_df"
      ],
      "execution_count": 24,
      "outputs": [
        {
          "output_type": "execute_result",
          "data": {
            "text/html": [
              "<div>\n",
              "<style scoped>\n",
              "    .dataframe tbody tr th:only-of-type {\n",
              "        vertical-align: middle;\n",
              "    }\n",
              "\n",
              "    .dataframe tbody tr th {\n",
              "        vertical-align: top;\n",
              "    }\n",
              "\n",
              "    .dataframe thead th {\n",
              "        text-align: right;\n",
              "    }\n",
              "</style>\n",
              "<table border=\"1\" class=\"dataframe\">\n",
              "  <thead>\n",
              "    <tr style=\"text-align: right;\">\n",
              "      <th></th>\n",
              "      <th>ISBN</th>\n",
              "      <th>UserID</th>\n",
              "      <th>Rating</th>\n",
              "    </tr>\n",
              "  </thead>\n",
              "  <tbody>\n",
              "    <tr>\n",
              "      <th>20</th>\n",
              "      <td>802714625</td>\n",
              "      <td>7241</td>\n",
              "      <td>5.0</td>\n",
              "    </tr>\n",
              "    <tr>\n",
              "      <th>21</th>\n",
              "      <td>802714625</td>\n",
              "      <td>835</td>\n",
              "      <td>4.0</td>\n",
              "    </tr>\n",
              "    <tr>\n",
              "      <th>23</th>\n",
              "      <td>802714625</td>\n",
              "      <td>1502</td>\n",
              "      <td>4.0</td>\n",
              "    </tr>\n",
              "    <tr>\n",
              "      <th>26</th>\n",
              "      <td>802714625</td>\n",
              "      <td>3855</td>\n",
              "      <td>4.0</td>\n",
              "    </tr>\n",
              "    <tr>\n",
              "      <th>28</th>\n",
              "      <td>802714625</td>\n",
              "      <td>8156</td>\n",
              "      <td>5.0</td>\n",
              "    </tr>\n",
              "    <tr>\n",
              "      <th>...</th>\n",
              "      <td>...</td>\n",
              "      <td>...</td>\n",
              "      <td>...</td>\n",
              "    </tr>\n",
              "    <tr>\n",
              "      <th>26</th>\n",
              "      <td>399184414</td>\n",
              "      <td>3267</td>\n",
              "      <td>2.0</td>\n",
              "    </tr>\n",
              "    <tr>\n",
              "      <th>28</th>\n",
              "      <td>399184414</td>\n",
              "      <td>6287</td>\n",
              "      <td>4.0</td>\n",
              "    </tr>\n",
              "    <tr>\n",
              "      <th>38</th>\n",
              "      <td>399184414</td>\n",
              "      <td>6536</td>\n",
              "      <td>2.0</td>\n",
              "    </tr>\n",
              "    <tr>\n",
              "      <th>39</th>\n",
              "      <td>399184414</td>\n",
              "      <td>11584</td>\n",
              "      <td>5.0</td>\n",
              "    </tr>\n",
              "    <tr>\n",
              "      <th>57</th>\n",
              "      <td>399184414</td>\n",
              "      <td>3312</td>\n",
              "      <td>5.0</td>\n",
              "    </tr>\n",
              "  </tbody>\n",
              "</table>\n",
              "<p>4406 rows × 3 columns</p>\n",
              "</div>"
            ],
            "text/plain": [
              "         ISBN  UserID  Rating\n",
              "20  802714625    7241     5.0\n",
              "21  802714625     835     4.0\n",
              "23  802714625    1502     4.0\n",
              "26  802714625    3855     4.0\n",
              "28  802714625    8156     5.0\n",
              "..        ...     ...     ...\n",
              "26  399184414    3267     2.0\n",
              "28  399184414    6287     4.0\n",
              "38  399184414    6536     2.0\n",
              "39  399184414   11584     5.0\n",
              "57  399184414    3312     5.0\n",
              "\n",
              "[4406 rows x 3 columns]"
            ]
          },
          "metadata": {
            "tags": []
          },
          "execution_count": 24
        }
      ]
    },
    {
      "cell_type": "code",
      "metadata": {
        "id": "QDhxFtt3c69I",
        "colab_type": "code",
        "colab": {}
      },
      "source": [
        "trainset, testset = train_test_split(data, test_size=0.2)"
      ],
      "execution_count": 25,
      "outputs": []
    },
    {
      "cell_type": "code",
      "metadata": {
        "id": "k381-0kqc69M",
        "colab_type": "code",
        "colab": {}
      },
      "source": [
        "from tqdm import tqdm\n",
        "from collections import Counter"
      ],
      "execution_count": 27,
      "outputs": []
    },
    {
      "cell_type": "code",
      "metadata": {
        "id": "BKNJiV4cc69T",
        "colab_type": "code",
        "colab": {}
      },
      "source": [
        "benchmark = []\n",
        "for i in tqdm(range(100)):\n",
        "# Iterate over all algorithms\n",
        "    for algorithm in [SVD(biased=True), SVD(biased=False), BaselineOnly()]:\n",
        "        # Perform cross validation\n",
        "        results = cross_validate(algorithm, \n",
        "                                data, \n",
        "                                measures=['RMSE'],\n",
        "                                verbose=False, \n",
        "                                cv=3,\n",
        "                                 n_jobs=1)\n",
        "        # Get results & append algorithm name\n",
        "        tmp = pd.DataFrame.from_dict(results).mean(axis=0)\n",
        "        tmp = tmp.append(pd.Series([str(algorithm).split(' ')[0].split('.')[-1]], \n",
        "                                   index=['Algorithm']))\n",
        "        benchmark.append(tmp)"
      ],
      "execution_count": null,
      "outputs": []
    },
    {
      "cell_type": "code",
      "metadata": {
        "id": "32ziLcE9hT5w",
        "colab_type": "code",
        "colab": {
          "base_uri": "https://localhost:8080/",
          "height": 34
        },
        "outputId": "6f1a6419-6fcf-46d6-f0c6-c3c0540133c1"
      },
      "source": [
        "len(benchmark)"
      ],
      "execution_count": 81,
      "outputs": [
        {
          "output_type": "execute_result",
          "data": {
            "text/plain": [
              "300"
            ]
          },
          "metadata": {
            "tags": []
          },
          "execution_count": 81
        }
      ]
    },
    {
      "cell_type": "code",
      "metadata": {
        "id": "vBDvfhMWc69Y",
        "colab_type": "code",
        "colab": {}
      },
      "source": [
        "svd_complete = benchmark[::3]\n",
        "svd_biased = benchmark[1::3]  \n",
        "base_lines = benchmark[2::3]   "
      ],
      "execution_count": 82,
      "outputs": []
    },
    {
      "cell_type": "code",
      "metadata": {
        "id": "DYvxBBIAc69Z",
        "colab_type": "code",
        "colab": {}
      },
      "source": [
        "import matplotlib.pyplot as plt\n",
        "def extract_score(df):\n",
        "    return float(df[\"test_rmse\"])"
      ],
      "execution_count": 78,
      "outputs": []
    },
    {
      "cell_type": "code",
      "metadata": {
        "id": "8kHOrwFxhZcM",
        "colab_type": "code",
        "colab": {}
      },
      "source": [
        "base_line_errors = [extract_score(df) for df in base_lines]\n",
        "svd_biased_errors = [extract_score(df) for df in svd_biased]\n",
        "svd_complete_errors = [extract_score(df) for df in svd_complete]"
      ],
      "execution_count": 83,
      "outputs": []
    },
    {
      "cell_type": "code",
      "metadata": {
        "id": "iT1YHsNkmRyz",
        "colab_type": "code",
        "colab": {
          "base_uri": "https://localhost:8080/",
          "height": 285
        },
        "outputId": "89f95625-8a50-4175-dbeb-bfe3f79f5318"
      },
      "source": [
        "plt.scatter(base_line_errors, svd_complete_errors)"
      ],
      "execution_count": 84,
      "outputs": [
        {
          "output_type": "execute_result",
          "data": {
            "text/plain": [
              "<matplotlib.collections.PathCollection at 0x7f7447dbbfd0>"
            ]
          },
          "metadata": {
            "tags": []
          },
          "execution_count": 84
        },
        {
          "output_type": "display_data",
          "data": {
            "image/png": "[encoded data removed]",
            "text/plain": [
              "<Figure size 432x288 with 1 Axes>"
            ]
          },
          "metadata": {
            "tags": [],
            "needs_background": "light"
          }
        }
      ]
    },
    {
      "cell_type": "code",
      "metadata": {
        "id": "6-lvvRHSiiTs",
        "colab_type": "code",
        "colab": {
          "base_uri": "https://localhost:8080/",
          "height": 607
        },
        "outputId": "480781a1-d552-4d14-9e6a-160e354e7c9a"
      },
      "source": [
        "plt.figure(figsize=(10,10))\n",
        "plt.hist(base_line_errors,bins = 100,alpha = 0.4 ,label=\"baseline\")\n",
        "plt.hist(svd_biased_errors,bins=100,alpha = 0.4, label=\"svd without baseline\")\n",
        "plt.hist(svd_complete_errors,bins = 100,alpha = 0.4,label=\"complete svd\")\n",
        "plt.legend()\n",
        "plt.title(\"RMSE\");\n"
      ],
      "execution_count": 90,
      "outputs": [
        {
          "output_type": "display_data",
          "data": {
            "image/png": "[encoded data removed]",
            "text/plain": [
              "<Figure size 720x720 with 1 Axes>"
            ]
          },
          "metadata": {
            "tags": [],
            "needs_background": "light"
          }
        }
      ]
    }
  ]
}