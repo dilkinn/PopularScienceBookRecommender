{
 "cells": [
  {
   "cell_type": "code",
   "execution_count": 169,
   "metadata": {},
   "outputs": [],
   "source": [
    "import pandas as pd\n",
    "import numpy as np\n",
    "import fnmatch\n",
    "import os"
   ]
  },
  {
   "cell_type": "code",
   "execution_count": 261,
   "metadata": {
    "jupyter": {
     "source_hidden": true
    }
   },
   "outputs": [],
   "source": [
    "def repl(string):\n",
    "    string1 = string.replace(']','').replace('[', '').replace('\\'','')\n",
    "    return string1\n",
    "\n",
    "def str_to_list(string):\n",
    "    lst = list(string[1:-1].split(\", \"))\n",
    "    lst1 = []\n",
    "    for el in lst:\n",
    "        lst1.append(el[1:-1])\n",
    "    \n",
    "    return ' '.join(lst1)"
   ]
  },
  {
   "cell_type": "code",
   "execution_count": 262,
   "metadata": {},
   "outputs": [],
   "source": [
    "def one_decimal(rating):\n",
    "    return round(rating, 1)\n",
    "\n",
    "def categorize_ratings(df, col):\n",
    "    df[col] = df[col].apply(one_decimal)\n",
    "    return df\n",
    "def lower(text):\n",
    "    return text.lower()\n",
    "\n",
    "def lower_cols(df, cols):\n",
    "    for col in cols:\n",
    "        df[col] = df[col].apply(lower)\n",
    "    return df\n",
    "\n",
    "def remove_spaces(text):\n",
    "    text = text.replace(' ', '', 10)\n",
    "    return text\n",
    "\n",
    "def join_names(df, col):\n",
    "    df[col] = df[col].apply(remove_spaces)\n",
    "    return df\n",
    "\n",
    "def read_books_info(filespath='../data/big_data_temp/'):\n",
    "    pattern = 'gr_books_df_*.csv'\n",
    "    print('Pattern :', pattern )\n",
    "\n",
    "    files = os.listdir(filespath) \n",
    "    dfs_files = []\n",
    "    for name in files: \n",
    "        if fnmatch.fnmatch(name, pattern):\n",
    "            dfs_files.append(name)\n",
    "    dfs_files\n",
    "    dfs_paths = []\n",
    "    for file in dfs_files:\n",
    "        dfs_paths.append(filespath + file)\n",
    "\n",
    "    revs_lst = []\n",
    "    for file in dfs_paths:\n",
    "        try:\n",
    "            revs_lst.append(pd.read_csv(file))\n",
    "        except:\n",
    "            print(f'file {file} failed')\n",
    "    print(len(revs_lst))\n",
    "    df = pd.concat(revs_lst,axis=0)\n",
    "    return df"
   ]
  },
  {
   "cell_type": "code",
   "execution_count": 536,
   "metadata": {},
   "outputs": [
    {
     "name": "stdout",
     "output_type": "stream",
     "text": [
      "Pattern : gr_books_df_*.csv\n",
      "6\n"
     ]
    }
   ],
   "source": [
    "books_df = read_books_info()\n",
    "books_df['author_name'] = books_df['author_name'].apply(repl)\n",
    "books_df = categorize_ratings(books_df,'avg_rating')\n",
    "books_df['genres'] = books_df['genres'].apply(str_to_list)\n",
    "books_df = books_df[['isbn', 'book_title', 'avg_rating', 'author_name', 'book_desc', 'genres']]\n",
    "books_df = lower_cols(books_df, ['book_title', 'author_name', 'book_desc', 'genres'])\n",
    "books_df = join_names(books_df, 'author_name')"
   ]
  },
  {
   "cell_type": "code",
   "execution_count": 538,
   "metadata": {},
   "outputs": [
    {
     "data": {
      "text/html": [
       "<div>\n",
       "<style scoped>\n",
       "    .dataframe tbody tr th:only-of-type {\n",
       "        vertical-align: middle;\n",
       "    }\n",
       "\n",
       "    .dataframe tbody tr th {\n",
       "        vertical-align: top;\n",
       "    }\n",
       "\n",
       "    .dataframe thead th {\n",
       "        text-align: right;\n",
       "    }\n",
       "</style>\n",
       "<table border=\"1\" class=\"dataframe\">\n",
       "  <thead>\n",
       "    <tr style=\"text-align: right;\">\n",
       "      <th></th>\n",
       "      <th>isbn</th>\n",
       "      <th>book_title</th>\n",
       "      <th>avg_rating</th>\n",
       "      <th>author_name</th>\n",
       "      <th>book_desc</th>\n",
       "      <th>genres</th>\n",
       "    </tr>\n",
       "  </thead>\n",
       "  <tbody>\n",
       "    <tr>\n",
       "      <th>0</th>\n",
       "      <td>1594488843</td>\n",
       "      <td>drive: the surprising truth about what motivat...</td>\n",
       "      <td>4.0</td>\n",
       "      <td>danielh.pink</td>\n",
       "      <td>the new york times bestseller that gives reade...</td>\n",
       "      <td>nonfiction business psychology leadership self...</td>\n",
       "    </tr>\n",
       "    <tr>\n",
       "      <th>1</th>\n",
       "      <td>033050889X</td>\n",
       "      <td>the mind's eye</td>\n",
       "      <td>3.9</td>\n",
       "      <td>oliversacks</td>\n",
       "      <td>in musicophilia, oliver sacks explored music a...</td>\n",
       "      <td>nonfiction science psychology biology neurosci...</td>\n",
       "    </tr>\n",
       "  </tbody>\n",
       "</table>\n",
       "</div>"
      ],
      "text/plain": [
       "         isbn                                         book_title  avg_rating  \\\n",
       "0  1594488843  drive: the surprising truth about what motivat...         4.0   \n",
       "1  033050889X                                     the mind's eye         3.9   \n",
       "\n",
       "    author_name                                          book_desc  \\\n",
       "0  danielh.pink  the new york times bestseller that gives reade...   \n",
       "1   oliversacks  in musicophilia, oliver sacks explored music a...   \n",
       "\n",
       "                                              genres  \n",
       "0  nonfiction business psychology leadership self...  \n",
       "1  nonfiction science psychology biology neurosci...  "
      ]
     },
     "execution_count": 538,
     "metadata": {},
     "output_type": "execute_result"
    }
   ],
   "source": [
    "books_df.head(2)"
   ]
  },
  {
   "cell_type": "markdown",
   "metadata": {},
   "source": [
    "### TfIdf for books_df"
   ]
  },
  {
   "cell_type": "code",
   "execution_count": 280,
   "metadata": {},
   "outputs": [],
   "source": [
    "from sklearn.feature_extraction.text import TfidfVectorizer"
   ]
  },
  {
   "cell_type": "code",
   "execution_count": 300,
   "metadata": {},
   "outputs": [],
   "source": [
    "tf = TfidfVectorizer(analyzer='word', ngram_range=(1, 1), min_df=0, stop_words='english', max_features=200)\n",
    "tfidf_matrix = tf.fit_transform(books_df['genres'])\n",
    "\n",
    "# tf.stop_words_\n",
    "# tf.vocabulary_\n",
    "tfidf_df = pd.DataFrame(tfidf_matrix.toarray(), columns=tf.get_feature_names())\n",
    "books_df = pd.concat([books_df, tfidf_df], axis=1)\n",
    "features = tf.get_feature_names()"
   ]
  },
  {
   "cell_type": "code",
   "execution_count": 308,
   "metadata": {},
   "outputs": [
    {
     "data": {
      "text/html": [
       "<div>\n",
       "<style scoped>\n",
       "    .dataframe tbody tr th:only-of-type {\n",
       "        vertical-align: middle;\n",
       "    }\n",
       "\n",
       "    .dataframe tbody tr th {\n",
       "        vertical-align: top;\n",
       "    }\n",
       "\n",
       "    .dataframe thead th {\n",
       "        text-align: right;\n",
       "    }\n",
       "</style>\n",
       "<table border=\"1\" class=\"dataframe\">\n",
       "  <thead>\n",
       "    <tr style=\"text-align: right;\">\n",
       "      <th></th>\n",
       "      <th>19th</th>\n",
       "      <th>20th</th>\n",
       "      <th>21st</th>\n",
       "      <th>academic</th>\n",
       "      <th>adult</th>\n",
       "      <th>adventure</th>\n",
       "      <th>africa</th>\n",
       "      <th>american</th>\n",
       "      <th>animals</th>\n",
       "      <th>anthologies</th>\n",
       "      <th>...</th>\n",
       "      <th>travel</th>\n",
       "      <th>trek</th>\n",
       "      <th>trivia</th>\n",
       "      <th>true</th>\n",
       "      <th>tv</th>\n",
       "      <th>unfinished</th>\n",
       "      <th>war</th>\n",
       "      <th>womens</th>\n",
       "      <th>world</th>\n",
       "      <th>writing</th>\n",
       "    </tr>\n",
       "  </thead>\n",
       "  <tbody>\n",
       "    <tr>\n",
       "      <th>0</th>\n",
       "      <td>0.0</td>\n",
       "      <td>0.0</td>\n",
       "      <td>0.0</td>\n",
       "      <td>0.0</td>\n",
       "      <td>0.0</td>\n",
       "      <td>0.0</td>\n",
       "      <td>0.0</td>\n",
       "      <td>0.0</td>\n",
       "      <td>0.0</td>\n",
       "      <td>0.0</td>\n",
       "      <td>...</td>\n",
       "      <td>0.0</td>\n",
       "      <td>0.0</td>\n",
       "      <td>0.0</td>\n",
       "      <td>0.0</td>\n",
       "      <td>0.0</td>\n",
       "      <td>0.000000</td>\n",
       "      <td>0.0</td>\n",
       "      <td>0.0</td>\n",
       "      <td>0.0</td>\n",
       "      <td>0.000000</td>\n",
       "    </tr>\n",
       "    <tr>\n",
       "      <th>1</th>\n",
       "      <td>0.0</td>\n",
       "      <td>0.0</td>\n",
       "      <td>0.0</td>\n",
       "      <td>0.0</td>\n",
       "      <td>0.0</td>\n",
       "      <td>0.0</td>\n",
       "      <td>0.0</td>\n",
       "      <td>0.0</td>\n",
       "      <td>0.0</td>\n",
       "      <td>0.0</td>\n",
       "      <td>...</td>\n",
       "      <td>0.0</td>\n",
       "      <td>0.0</td>\n",
       "      <td>0.0</td>\n",
       "      <td>0.0</td>\n",
       "      <td>0.0</td>\n",
       "      <td>0.000000</td>\n",
       "      <td>0.0</td>\n",
       "      <td>0.0</td>\n",
       "      <td>0.0</td>\n",
       "      <td>0.294656</td>\n",
       "    </tr>\n",
       "    <tr>\n",
       "      <th>2</th>\n",
       "      <td>0.0</td>\n",
       "      <td>0.0</td>\n",
       "      <td>0.0</td>\n",
       "      <td>0.0</td>\n",
       "      <td>0.0</td>\n",
       "      <td>0.0</td>\n",
       "      <td>0.0</td>\n",
       "      <td>0.0</td>\n",
       "      <td>0.0</td>\n",
       "      <td>0.0</td>\n",
       "      <td>...</td>\n",
       "      <td>0.0</td>\n",
       "      <td>0.0</td>\n",
       "      <td>0.0</td>\n",
       "      <td>0.0</td>\n",
       "      <td>0.0</td>\n",
       "      <td>0.409444</td>\n",
       "      <td>0.0</td>\n",
       "      <td>0.0</td>\n",
       "      <td>0.0</td>\n",
       "      <td>0.000000</td>\n",
       "    </tr>\n",
       "  </tbody>\n",
       "</table>\n",
       "<p>3 rows × 186 columns</p>\n",
       "</div>"
      ],
      "text/plain": [
       "   19th  20th  21st  academic  adult  adventure  africa  american  animals  \\\n",
       "0   0.0   0.0   0.0       0.0    0.0        0.0     0.0       0.0      0.0   \n",
       "1   0.0   0.0   0.0       0.0    0.0        0.0     0.0       0.0      0.0   \n",
       "2   0.0   0.0   0.0       0.0    0.0        0.0     0.0       0.0      0.0   \n",
       "\n",
       "   anthologies  ...  travel  trek  trivia  true   tv  unfinished  war  womens  \\\n",
       "0          0.0  ...     0.0   0.0     0.0   0.0  0.0    0.000000  0.0     0.0   \n",
       "1          0.0  ...     0.0   0.0     0.0   0.0  0.0    0.000000  0.0     0.0   \n",
       "2          0.0  ...     0.0   0.0     0.0   0.0  0.0    0.409444  0.0     0.0   \n",
       "\n",
       "   world   writing  \n",
       "0    0.0  0.000000  \n",
       "1    0.0  0.294656  \n",
       "2    0.0  0.000000  \n",
       "\n",
       "[3 rows x 186 columns]"
      ]
     },
     "execution_count": 308,
     "metadata": {},
     "output_type": "execute_result"
    }
   ],
   "source": [
    "tfidf_df.head(3)"
   ]
  },
  {
   "cell_type": "code",
   "execution_count": 585,
   "metadata": {},
   "outputs": [],
   "source": [
    "reviews_df = pd.read_csv('../data/big_data_temp/reviews.csv')\n",
    "\n",
    "to_pivot = reviews_df[['UserID', 'ISBN','Rating']].drop_duplicates(subset=None, keep='first')\n",
    "\n",
    "to_pivot[to_pivot[['UserID', 'ISBN']].duplicated()]\n",
    "to_pivot.drop(index=[344,66423],inplace=True)\n",
    "\n",
    "to_pivot"
   ]
  },
  {
   "cell_type": "code",
   "execution_count": 507,
   "metadata": {},
   "outputs": [],
   "source": [
    "sparse_df = to_pivot.pivot(index='UserID', columns='ISBN', values='Rating')"
   ]
  },
  {
   "cell_type": "code",
   "execution_count": 510,
   "metadata": {},
   "outputs": [],
   "source": [
    "sparse_df.fillna(0.0, inplace=True)"
   ]
  },
  {
   "cell_type": "markdown",
   "metadata": {},
   "source": [
    "### Light FM"
   ]
  },
  {
   "cell_type": "code",
   "execution_count": 329,
   "metadata": {},
   "outputs": [],
   "source": [
    "from lightfm import LightFM\n",
    "from lightfm.data import Dataset"
   ]
  },
  {
   "cell_type": "code",
   "execution_count": 331,
   "metadata": {},
   "outputs": [],
   "source": [
    "dataset = Dataset()\n",
    "dataset.fit(reviews_df['UserID'],reviews_df['ISBN'])"
   ]
  },
  {
   "cell_type": "code",
   "execution_count": 339,
   "metadata": {},
   "outputs": [],
   "source": [
    "dataset.fit_partial(items=books_df['isbn'], users=reviews_df['UserID'], item_features=features, user_features=None)"
   ]
  },
  {
   "cell_type": "code",
   "execution_count": 348,
   "metadata": {},
   "outputs": [],
   "source": [
    "user_isbn = zip(reviews_df['UserID'], reviews_df['ISBN'])"
   ]
  },
  {
   "cell_type": "code",
   "execution_count": 349,
   "metadata": {},
   "outputs": [],
   "source": [
    "(interactions, weights) = dataset.build_interactions(user_isbn)"
   ]
  },
  {
   "cell_type": "code",
   "execution_count": 335,
   "metadata": {},
   "outputs": [
    {
     "data": {
      "text/plain": [
       "'0525954821'"
      ]
     },
     "execution_count": 335,
     "metadata": {},
     "output_type": "execute_result"
    }
   ],
   "source": [
    "np.array(books_df.loc[298,['isbn']])[0]"
   ]
  },
  {
   "cell_type": "code",
   "execution_count": 343,
   "metadata": {
    "collapsed": true,
    "jupyter": {
     "outputs_hidden": true
    }
   },
   "outputs": [
    {
     "data": {
      "text/plain": [
       "[0.0,\n",
       " 0.0,\n",
       " 0.0,\n",
       " 0.0,\n",
       " 0.0,\n",
       " 0.0,\n",
       " 0.0,\n",
       " 0.0,\n",
       " 0.0,\n",
       " 0.0,\n",
       " 0.0,\n",
       " 0.0,\n",
       " 0.0,\n",
       " 0.0,\n",
       " 0.0,\n",
       " 0.0,\n",
       " 0.0,\n",
       " 0.0,\n",
       " 0.0,\n",
       " 0.0,\n",
       " 0.0,\n",
       " 0.0,\n",
       " 0.0,\n",
       " 0.0,\n",
       " 0.0,\n",
       " 0.3768485485053178,\n",
       " 0.0,\n",
       " 0.0,\n",
       " 0.0,\n",
       " 0.0,\n",
       " 0.0,\n",
       " 0.0,\n",
       " 0.0,\n",
       " 0.0,\n",
       " 0.0,\n",
       " 0.0,\n",
       " 0.0,\n",
       " 0.0,\n",
       " 0.0,\n",
       " 0.0,\n",
       " 0.0,\n",
       " 0.0,\n",
       " 0.0,\n",
       " 0.0,\n",
       " 0.0,\n",
       " 0.0,\n",
       " 0.0,\n",
       " 0.0,\n",
       " 0.0,\n",
       " 0.0,\n",
       " 0.24610936727437915,\n",
       " 0.0,\n",
       " 0.0,\n",
       " 0.0,\n",
       " 0.0,\n",
       " 0.0,\n",
       " 0.0,\n",
       " 0.2249084177636906,\n",
       " 0.0,\n",
       " 0.0,\n",
       " 0.0,\n",
       " 0.0,\n",
       " 0.0,\n",
       " 0.0,\n",
       " 0.0,\n",
       " 0.0,\n",
       " 0.0,\n",
       " 0.0,\n",
       " 0.0,\n",
       " 0.0,\n",
       " 0.0,\n",
       " 0.0,\n",
       " 0.0,\n",
       " 0.0,\n",
       " 0.0,\n",
       " 0.0,\n",
       " 0.0,\n",
       " 0.0,\n",
       " 0.0,\n",
       " 0.0,\n",
       " 0.0,\n",
       " 0.0,\n",
       " 0.0,\n",
       " 0.40275026303800254,\n",
       " 0.0,\n",
       " 0.0,\n",
       " 0.0,\n",
       " 0.0,\n",
       " 0.0,\n",
       " 0.0,\n",
       " 0.0,\n",
       " 0.0,\n",
       " 0.0,\n",
       " 0.0,\n",
       " 0.0,\n",
       " 0.0,\n",
       " 0.0,\n",
       " 0.2984450681050103,\n",
       " 0.0,\n",
       " 0.0,\n",
       " 0.0,\n",
       " 0.3617456892004505,\n",
       " 0.0,\n",
       " 0.0,\n",
       " 0.0,\n",
       " 0.0,\n",
       " 0.0,\n",
       " 0.0,\n",
       " 0.0,\n",
       " 0.0,\n",
       " 0.0,\n",
       " 0.0,\n",
       " 0.0,\n",
       " 0.0,\n",
       " 0.0,\n",
       " 0.0,\n",
       " 0.0,\n",
       " 0.0,\n",
       " 0.0,\n",
       " 0.0,\n",
       " 0.0,\n",
       " 0.06540415309031819,\n",
       " 0.0,\n",
       " 0.0,\n",
       " 0.0,\n",
       " 0.0,\n",
       " 0.0,\n",
       " 0.0,\n",
       " 0.24610936727437915,\n",
       " 0.0,\n",
       " 0.0,\n",
       " 0.0,\n",
       " 0.0,\n",
       " 0.0,\n",
       " 0.0,\n",
       " 0.0,\n",
       " 0.0,\n",
       " 0.3431793038603882,\n",
       " 0.0,\n",
       " 0.12530726027986935,\n",
       " 0.0,\n",
       " 0.0,\n",
       " 0.0,\n",
       " 0.0,\n",
       " 0.0,\n",
       " 0.0,\n",
       " 0.0,\n",
       " 0.06453786008224141,\n",
       " 0.40275026303800254,\n",
       " 0.0,\n",
       " 0.0,\n",
       " 0.0,\n",
       " 0.0,\n",
       " 0.0,\n",
       " 0.0,\n",
       " 0.0,\n",
       " 0.0,\n",
       " 0.0,\n",
       " 0.0,\n",
       " 0.0,\n",
       " 0.0,\n",
       " 0.0,\n",
       " 0.0,\n",
       " 0.0,\n",
       " 0.0,\n",
       " 0.0,\n",
       " 0.0,\n",
       " 0.0,\n",
       " 0.0,\n",
       " 0.0,\n",
       " 0.0,\n",
       " 0.0,\n",
       " 0.0,\n",
       " 0.0,\n",
       " 0.0,\n",
       " 0.0,\n",
       " 0.0,\n",
       " 0.0,\n",
       " 0.0,\n",
       " 0.0,\n",
       " 0.0,\n",
       " 0.0,\n",
       " 0.0,\n",
       " 0.0,\n",
       " 0.0,\n",
       " 0.0]"
      ]
     },
     "execution_count": 343,
     "metadata": {},
     "output_type": "execute_result"
    }
   ],
   "source": [
    "list(tf_m_arr[0])"
   ]
  },
  {
   "cell_type": "code",
   "execution_count": 345,
   "metadata": {},
   "outputs": [],
   "source": [
    "tfidf_dct = tfidf_df.to_dict('index')"
   ]
  },
  {
   "cell_type": "code",
   "execution_count": 350,
   "metadata": {},
   "outputs": [],
   "source": [
    "tf_m_arr = tfidf_matrix.toarray()\n",
    "\n",
    "features_tuple = [(np.array(books_df.loc[i,['isbn']])[0], list(tfidf_dct[i])) for i in range(tf_m_arr.shape[0])]"
   ]
  },
  {
   "cell_type": "code",
   "execution_count": 351,
   "metadata": {},
   "outputs": [],
   "source": [
    "item_features = dataset.build_item_features(features_tuple)"
   ]
  },
  {
   "cell_type": "code",
   "execution_count": 352,
   "metadata": {},
   "outputs": [
    {
     "data": {
      "text/plain": [
       "<lightfm.lightfm.LightFM at 0x7fa3aaae7210>"
      ]
     },
     "execution_count": 352,
     "metadata": {},
     "output_type": "execute_result"
    }
   ],
   "source": [
    "model = LightFM(loss='bpr')\n",
    "model.fit(interactions, item_features=item_features)"
   ]
  },
  {
   "cell_type": "code",
   "execution_count": 373,
   "metadata": {},
   "outputs": [
    {
     "data": {
      "text/plain": [
       "array([-3.58480263])"
      ]
     },
     "execution_count": 373,
     "metadata": {},
     "output_type": "execute_result"
    }
   ],
   "source": [
    "model.predict([143], [234])"
   ]
  },
  {
   "cell_type": "code",
   "execution_count": 360,
   "metadata": {},
   "outputs": [],
   "source": [
    "import numpy as np\n",
    "from lightfm.datasets import fetch_movielens\n",
    "movielens = fetch_movielens()"
   ]
  },
  {
   "cell_type": "code",
   "execution_count": 361,
   "metadata": {},
   "outputs": [
    {
     "name": "stdout",
     "output_type": "stream",
     "text": [
      "train <class 'scipy.sparse.coo.coo_matrix'> (943, 1682)\n",
      "test <class 'scipy.sparse.coo.coo_matrix'> (943, 1682)\n",
      "item_features <class 'scipy.sparse.csr.csr_matrix'> (1682, 1682)\n",
      "item_feature_labels <class 'numpy.ndarray'> (1682,)\n",
      "item_labels <class 'numpy.ndarray'> (1682,)\n"
     ]
    }
   ],
   "source": [
    "for key, value in movielens.items():\n",
    "    print(key, type(value), value.shape)"
   ]
  },
  {
   "cell_type": "code",
   "execution_count": 362,
   "metadata": {},
   "outputs": [],
   "source": [
    "train = movielens['train']\n",
    "test = movielens['test']"
   ]
  },
  {
   "cell_type": "code",
   "execution_count": 369,
   "metadata": {},
   "outputs": [
    {
     "data": {
      "text/plain": [
       "array([[5, 3, 4, ..., 0, 0, 0],\n",
       "       [4, 0, 0, ..., 0, 0, 0],\n",
       "       [0, 0, 0, ..., 0, 0, 0],\n",
       "       ...,\n",
       "       [5, 0, 0, ..., 0, 0, 0],\n",
       "       [0, 0, 0, ..., 0, 0, 0],\n",
       "       [0, 5, 0, ..., 0, 0, 0]], dtype=int32)"
      ]
     },
     "execution_count": 369,
     "metadata": {},
     "output_type": "execute_result"
    }
   ],
   "source": [
    "train.toarray()"
   ]
  },
  {
   "cell_type": "code",
   "execution_count": 370,
   "metadata": {},
   "outputs": [],
   "source": [
    "from lightfm.evaluation import precision_at_k\n",
    "from lightfm.evaluation import auc_score"
   ]
  },
  {
   "cell_type": "code",
   "execution_count": 371,
   "metadata": {},
   "outputs": [
    {
     "name": "stdout",
     "output_type": "stream",
     "text": [
      "Precision: train 0.60, test 0.10.\n",
      "AUC: train 0.90, test 0.86.\n"
     ]
    }
   ],
   "source": [
    "from lightfm import LightFM\n",
    "from lightfm.evaluation import precision_at_k\n",
    "from lightfm.evaluation import auc_score\n",
    "\n",
    "model = LightFM(learning_rate=0.05, loss='bpr')\n",
    "model.fit(train, epochs=10)\n",
    "\n",
    "train_precision = precision_at_k(model, train, k=10).mean()\n",
    "test_precision = precision_at_k(model, test, k=10).mean()\n",
    "\n",
    "train_auc = auc_score(model, train).mean()\n",
    "test_auc = auc_score(model, test).mean()\n",
    "\n",
    "print('Precision: train %.2f, test %.2f.' % (train_precision, test_precision))\n",
    "print('AUC: train %.2f, test %.2f.' % (train_auc, test_auc))"
   ]
  },
  {
   "cell_type": "code",
   "execution_count": null,
   "metadata": {},
   "outputs": [],
   "source": []
  },
  {
   "cell_type": "code",
   "execution_count": null,
   "metadata": {},
   "outputs": [],
   "source": []
  },
  {
   "cell_type": "code",
   "execution_count": 366,
   "metadata": {},
   "outputs": [],
   "source": [
    "from scipy.sparse import coo_matrix"
   ]
  },
  {
   "cell_type": "code",
   "execution_count": null,
   "metadata": {},
   "outputs": [],
   "source": [
    "coo_matrix(D)"
   ]
  },
  {
   "cell_type": "code",
   "execution_count": 368,
   "metadata": {},
   "outputs": [
    {
     "data": {
      "text/plain": [
       "<299x186 sparse matrix of type '<class 'numpy.float64'>'\n",
       "\twith 3246 stored elements in COOrdinate format>"
      ]
     },
     "execution_count": 368,
     "metadata": {},
     "output_type": "execute_result"
    }
   ],
   "source": [
    "coo_matrix (tfidf_matrix.toarray())"
   ]
  },
  {
   "cell_type": "markdown",
   "metadata": {},
   "source": [
    "### ratings predition with random forest for the train set."
   ]
  },
  {
   "cell_type": "code",
   "execution_count": 606,
   "metadata": {},
   "outputs": [
    {
     "name": "stdout",
     "output_type": "stream",
     "text": [
      "Pattern : gr_books_df_*.csv\n",
      "6\n"
     ]
    }
   ],
   "source": [
    "books_df = read_books_info()\n",
    "books_df['author_name'] = books_df['author_name'].apply(repl)\n",
    "books_df = categorize_ratings(books_df,'avg_rating')\n",
    "books_df['genres'] = books_df['genres'].apply(str_to_list)\n",
    "books_df = books_df[['isbn', 'book_title', 'avg_rating', 'author_name', 'book_desc', 'genres']]\n",
    "books_df = lower_cols(books_df, ['book_title', 'author_name', 'book_desc', 'genres'])\n",
    "books_df = join_names(books_df, 'author_name')\n",
    "books_df.reset_index(inplace=True)"
   ]
  },
  {
   "cell_type": "code",
   "execution_count": 607,
   "metadata": {},
   "outputs": [
    {
     "name": "stdout",
     "output_type": "stream",
     "text": [
      "       UserID       ISBN  Rating\n",
      "344     10631  802714625       4\n",
      "66423    2232  521427088       4\n"
     ]
    }
   ],
   "source": [
    "reviews_df = pd.read_csv('../data/big_data_temp/reviews.csv')\n",
    "to_pivot = reviews_df[['UserID', 'ISBN','Rating']].drop_duplicates(subset=None, keep='first')\n",
    "print(to_pivot[to_pivot[['UserID', 'ISBN']].duplicated()])\n",
    "to_pivot.drop(index=[344,66423],inplace=True)\n",
    "\n",
    "sparse_df = to_pivot.pivot(index='UserID', columns='ISBN', values='Rating')\n",
    "sparse_df.fillna(0.0, inplace=True)"
   ]
  },
  {
   "cell_type": "code",
   "execution_count": null,
   "metadata": {},
   "outputs": [],
   "source": [
    "### tfidf"
   ]
  },
  {
   "cell_type": "code",
   "execution_count": 609,
   "metadata": {},
   "outputs": [],
   "source": [
    "tf = TfidfVectorizer(analyzer='word', ngram_range=(1, 1), min_df=0, stop_words='english', max_features=200)\n",
    "tfidf_matrix = tf.fit_transform(books_df['genres'])\n",
    "\n",
    "# tf.stop_words_\n",
    "# tf.vocabulary_\n",
    "tfidf_df = pd.DataFrame(tfidf_matrix.toarray(), columns=tf.get_feature_names())\n",
    "books_df = pd.concat([books_df, tfidf_df], axis=1)\n",
    "features = tf.get_feature_names()"
   ]
  },
  {
   "cell_type": "code",
   "execution_count": 645,
   "metadata": {},
   "outputs": [],
   "source": [
    "users = content_df.UserID.unique()\n",
    "books = content_df.ISBN.unique()"
   ]
  },
  {
   "cell_type": "code",
   "execution_count": 611,
   "metadata": {},
   "outputs": [
    {
     "data": {
      "text/plain": [
       "248262"
      ]
     },
     "execution_count": 611,
     "metadata": {},
     "output_type": "execute_result"
    }
   ],
   "source": [
    "n_u = len(users)\n",
    "n_b = len(books)\n",
    "n_u* n_b"
   ]
  },
  {
   "cell_type": "code",
   "execution_count": 612,
   "metadata": {},
   "outputs": [
    {
     "data": {
      "text/plain": [
       "(12393, 5)"
      ]
     },
     "execution_count": 612,
     "metadata": {},
     "output_type": "execute_result"
    }
   ],
   "source": [
    "from sklearn.decomposition import TruncatedSVD\n",
    "from scipy.sparse import random as sparse_random\n",
    "from sklearn.random_projection import sparse_random_matrix\n",
    "\n",
    "svd = TruncatedSVD(n_components=5, n_iter=10, random_state=42)\n",
    "svd.fit(sparse_df)\n",
    "\n",
    "result = svd.transform(sparse_df)\n",
    "result.shape"
   ]
  },
  {
   "cell_type": "code",
   "execution_count": 617,
   "metadata": {},
   "outputs": [],
   "source": [
    "svd_5_df = pd.DataFrame(result)"
   ]
  },
  {
   "cell_type": "code",
   "execution_count": 622,
   "metadata": {},
   "outputs": [],
   "source": [
    "svd_5_df.reset_index(inplace=True)"
   ]
  },
  {
   "cell_type": "code",
   "execution_count": 518,
   "metadata": {},
   "outputs": [],
   "source": [
    "###content df preprocessing"
   ]
  },
  {
   "cell_type": "code",
   "execution_count": 614,
   "metadata": {},
   "outputs": [],
   "source": [
    "content_df = pd.merge(reviews_df, books_df, how='left', left_on='ISBN', right_on='isbn').dropna()\n",
    "content_df = content_df.drop(columns=['Unnamed: 0', 'isbn', 'book_title', 'author_name', 'book_desc', 'genres'])"
   ]
  },
  {
   "cell_type": "code",
   "execution_count": 624,
   "metadata": {},
   "outputs": [],
   "source": [
    "content_df = pd.merge(content_df, svd_5_df, how='left',left_on='UserID', right_on='index')"
   ]
  },
  {
   "cell_type": "code",
   "execution_count": 625,
   "metadata": {},
   "outputs": [
    {
     "data": {
      "text/html": [
       "<div>\n",
       "<style scoped>\n",
       "    .dataframe tbody tr th:only-of-type {\n",
       "        vertical-align: middle;\n",
       "    }\n",
       "\n",
       "    .dataframe tbody tr th {\n",
       "        vertical-align: top;\n",
       "    }\n",
       "\n",
       "    .dataframe thead th {\n",
       "        text-align: right;\n",
       "    }\n",
       "</style>\n",
       "<table border=\"1\" class=\"dataframe\">\n",
       "  <thead>\n",
       "    <tr style=\"text-align: right;\">\n",
       "      <th></th>\n",
       "      <th>ISBN</th>\n",
       "      <th>UserID</th>\n",
       "      <th>Rating</th>\n",
       "      <th>index_x</th>\n",
       "      <th>avg_rating</th>\n",
       "      <th>19th</th>\n",
       "      <th>20th</th>\n",
       "      <th>21st</th>\n",
       "      <th>academic</th>\n",
       "      <th>adult</th>\n",
       "      <th>...</th>\n",
       "      <th>war</th>\n",
       "      <th>womens</th>\n",
       "      <th>world</th>\n",
       "      <th>writing</th>\n",
       "      <th>index_y</th>\n",
       "      <th>0</th>\n",
       "      <th>1</th>\n",
       "      <th>2</th>\n",
       "      <th>3</th>\n",
       "      <th>4</th>\n",
       "    </tr>\n",
       "  </thead>\n",
       "  <tbody>\n",
       "    <tr>\n",
       "      <th>0</th>\n",
       "      <td>1400063515</td>\n",
       "      <td>510</td>\n",
       "      <td>3</td>\n",
       "      <td>21.0</td>\n",
       "      <td>3.9</td>\n",
       "      <td>0.0</td>\n",
       "      <td>0.0</td>\n",
       "      <td>0.0</td>\n",
       "      <td>0.0</td>\n",
       "      <td>0.0</td>\n",
       "      <td>...</td>\n",
       "      <td>0.0</td>\n",
       "      <td>0.0</td>\n",
       "      <td>0.0</td>\n",
       "      <td>0.0</td>\n",
       "      <td>510</td>\n",
       "      <td>0.169333</td>\n",
       "      <td>0.044086</td>\n",
       "      <td>0.048520</td>\n",
       "      <td>0.030422</td>\n",
       "      <td>0.207298</td>\n",
       "    </tr>\n",
       "    <tr>\n",
       "      <th>1</th>\n",
       "      <td>1400063515</td>\n",
       "      <td>4433</td>\n",
       "      <td>5</td>\n",
       "      <td>21.0</td>\n",
       "      <td>3.9</td>\n",
       "      <td>0.0</td>\n",
       "      <td>0.0</td>\n",
       "      <td>0.0</td>\n",
       "      <td>0.0</td>\n",
       "      <td>0.0</td>\n",
       "      <td>...</td>\n",
       "      <td>0.0</td>\n",
       "      <td>0.0</td>\n",
       "      <td>0.0</td>\n",
       "      <td>0.0</td>\n",
       "      <td>4433</td>\n",
       "      <td>0.497195</td>\n",
       "      <td>-0.014390</td>\n",
       "      <td>0.176215</td>\n",
       "      <td>0.000953</td>\n",
       "      <td>0.298981</td>\n",
       "    </tr>\n",
       "  </tbody>\n",
       "</table>\n",
       "<p>2 rows × 197 columns</p>\n",
       "</div>"
      ],
      "text/plain": [
       "         ISBN  UserID  Rating  index_x  avg_rating  19th  20th  21st  \\\n",
       "0  1400063515     510       3     21.0         3.9   0.0   0.0   0.0   \n",
       "1  1400063515    4433       5     21.0         3.9   0.0   0.0   0.0   \n",
       "\n",
       "   academic  adult  ...  war  womens  world  writing  index_y         0  \\\n",
       "0       0.0    0.0  ...  0.0     0.0    0.0      0.0      510  0.169333   \n",
       "1       0.0    0.0  ...  0.0     0.0    0.0      0.0     4433  0.497195   \n",
       "\n",
       "          1         2         3         4  \n",
       "0  0.044086  0.048520  0.030422  0.207298  \n",
       "1 -0.014390  0.176215  0.000953  0.298981  \n",
       "\n",
       "[2 rows x 197 columns]"
      ]
     },
     "execution_count": 625,
     "metadata": {},
     "output_type": "execute_result"
    }
   ],
   "source": [
    "content_df.head(2)"
   ]
  },
  {
   "cell_type": "code",
   "execution_count": 460,
   "metadata": {},
   "outputs": [],
   "source": [
    "from sklearn.model_selection import train_test_split, GridSearchCV\n",
    "from sklearn.calibration import CalibratedClassifierCV\n",
    "from sklearn.ensemble import RandomForestClassifier, GradientBoostingClassifier, RandomForestRegressor\n",
    "from sklearn.linear_model import LogisticRegression\n",
    "\n",
    "from sklearn.metrics import confusion_matrix, f1_score, accuracy_score, recall_score, r2_score, mean_squared_error"
   ]
  },
  {
   "cell_type": "code",
   "execution_count": 626,
   "metadata": {},
   "outputs": [],
   "source": [
    "X = content_df.copy()\n",
    "y = X.pop('Rating')"
   ]
  },
  {
   "cell_type": "code",
   "execution_count": 627,
   "metadata": {},
   "outputs": [],
   "source": [
    "y = y.apply(float)"
   ]
  },
  {
   "cell_type": "code",
   "execution_count": 628,
   "metadata": {},
   "outputs": [
    {
     "data": {
      "text/html": [
       "<div>\n",
       "<style scoped>\n",
       "    .dataframe tbody tr th:only-of-type {\n",
       "        vertical-align: middle;\n",
       "    }\n",
       "\n",
       "    .dataframe tbody tr th {\n",
       "        vertical-align: top;\n",
       "    }\n",
       "\n",
       "    .dataframe thead th {\n",
       "        text-align: right;\n",
       "    }\n",
       "</style>\n",
       "<table border=\"1\" class=\"dataframe\">\n",
       "  <thead>\n",
       "    <tr style=\"text-align: right;\">\n",
       "      <th></th>\n",
       "      <th>ISBN</th>\n",
       "      <th>UserID</th>\n",
       "      <th>index_x</th>\n",
       "      <th>avg_rating</th>\n",
       "      <th>19th</th>\n",
       "      <th>20th</th>\n",
       "      <th>21st</th>\n",
       "      <th>academic</th>\n",
       "      <th>adult</th>\n",
       "      <th>adventure</th>\n",
       "      <th>...</th>\n",
       "      <th>war</th>\n",
       "      <th>womens</th>\n",
       "      <th>world</th>\n",
       "      <th>writing</th>\n",
       "      <th>index_y</th>\n",
       "      <th>0</th>\n",
       "      <th>1</th>\n",
       "      <th>2</th>\n",
       "      <th>3</th>\n",
       "      <th>4</th>\n",
       "    </tr>\n",
       "  </thead>\n",
       "  <tbody>\n",
       "    <tr>\n",
       "      <th>0</th>\n",
       "      <td>1400063515</td>\n",
       "      <td>510</td>\n",
       "      <td>21.0</td>\n",
       "      <td>3.9</td>\n",
       "      <td>0.0</td>\n",
       "      <td>0.0</td>\n",
       "      <td>0.0</td>\n",
       "      <td>0.0</td>\n",
       "      <td>0.0</td>\n",
       "      <td>0.0</td>\n",
       "      <td>...</td>\n",
       "      <td>0.0</td>\n",
       "      <td>0.0</td>\n",
       "      <td>0.0</td>\n",
       "      <td>0.0</td>\n",
       "      <td>510</td>\n",
       "      <td>0.169333</td>\n",
       "      <td>0.044086</td>\n",
       "      <td>0.048520</td>\n",
       "      <td>0.030422</td>\n",
       "      <td>0.207298</td>\n",
       "    </tr>\n",
       "    <tr>\n",
       "      <th>1</th>\n",
       "      <td>1400063515</td>\n",
       "      <td>4433</td>\n",
       "      <td>21.0</td>\n",
       "      <td>3.9</td>\n",
       "      <td>0.0</td>\n",
       "      <td>0.0</td>\n",
       "      <td>0.0</td>\n",
       "      <td>0.0</td>\n",
       "      <td>0.0</td>\n",
       "      <td>0.0</td>\n",
       "      <td>...</td>\n",
       "      <td>0.0</td>\n",
       "      <td>0.0</td>\n",
       "      <td>0.0</td>\n",
       "      <td>0.0</td>\n",
       "      <td>4433</td>\n",
       "      <td>0.497195</td>\n",
       "      <td>-0.014390</td>\n",
       "      <td>0.176215</td>\n",
       "      <td>0.000953</td>\n",
       "      <td>0.298981</td>\n",
       "    </tr>\n",
       "  </tbody>\n",
       "</table>\n",
       "<p>2 rows × 196 columns</p>\n",
       "</div>"
      ],
      "text/plain": [
       "         ISBN  UserID  index_x  avg_rating  19th  20th  21st  academic  adult  \\\n",
       "0  1400063515     510     21.0         3.9   0.0   0.0   0.0       0.0    0.0   \n",
       "1  1400063515    4433     21.0         3.9   0.0   0.0   0.0       0.0    0.0   \n",
       "\n",
       "   adventure  ...  war  womens  world  writing  index_y         0         1  \\\n",
       "0        0.0  ...  0.0     0.0    0.0      0.0      510  0.169333  0.044086   \n",
       "1        0.0  ...  0.0     0.0    0.0      0.0     4433  0.497195 -0.014390   \n",
       "\n",
       "          2         3         4  \n",
       "0  0.048520  0.030422  0.207298  \n",
       "1  0.176215  0.000953  0.298981  \n",
       "\n",
       "[2 rows x 196 columns]"
      ]
     },
     "execution_count": 628,
     "metadata": {},
     "output_type": "execute_result"
    }
   ],
   "source": [
    "X.head(2)"
   ]
  },
  {
   "cell_type": "code",
   "execution_count": 629,
   "metadata": {},
   "outputs": [],
   "source": [
    "X_train, X_test, y_train, y_test = train_test_split(X, y, test_size=0.2, stratify = y)"
   ]
  },
  {
   "cell_type": "code",
   "execution_count": 630,
   "metadata": {},
   "outputs": [],
   "source": [
    "user_isbn_train = X_train[['UserID', 'ISBN']]\n",
    "user_isbn_test = X_test[['UserID', 'ISBN']]\n",
    "X_train = X_train.drop(columns=['UserID', 'ISBN'])\n",
    "X_test = X_test.drop(columns=['UserID', 'ISBN'])"
   ]
  },
  {
   "cell_type": "code",
   "execution_count": 631,
   "metadata": {},
   "outputs": [
    {
     "data": {
      "text/html": [
       "<div>\n",
       "<style scoped>\n",
       "    .dataframe tbody tr th:only-of-type {\n",
       "        vertical-align: middle;\n",
       "    }\n",
       "\n",
       "    .dataframe tbody tr th {\n",
       "        vertical-align: top;\n",
       "    }\n",
       "\n",
       "    .dataframe thead th {\n",
       "        text-align: right;\n",
       "    }\n",
       "</style>\n",
       "<table border=\"1\" class=\"dataframe\">\n",
       "  <thead>\n",
       "    <tr style=\"text-align: right;\">\n",
       "      <th></th>\n",
       "      <th>index_x</th>\n",
       "      <th>avg_rating</th>\n",
       "      <th>19th</th>\n",
       "      <th>20th</th>\n",
       "      <th>21st</th>\n",
       "      <th>academic</th>\n",
       "      <th>adult</th>\n",
       "      <th>adventure</th>\n",
       "      <th>africa</th>\n",
       "      <th>american</th>\n",
       "      <th>...</th>\n",
       "      <th>war</th>\n",
       "      <th>womens</th>\n",
       "      <th>world</th>\n",
       "      <th>writing</th>\n",
       "      <th>index_y</th>\n",
       "      <th>0</th>\n",
       "      <th>1</th>\n",
       "      <th>2</th>\n",
       "      <th>3</th>\n",
       "      <th>4</th>\n",
       "    </tr>\n",
       "  </thead>\n",
       "  <tbody>\n",
       "    <tr>\n",
       "      <th>2137</th>\n",
       "      <td>32.0</td>\n",
       "      <td>4.0</td>\n",
       "      <td>0.0</td>\n",
       "      <td>0.0</td>\n",
       "      <td>0.0</td>\n",
       "      <td>0.0</td>\n",
       "      <td>0.0</td>\n",
       "      <td>0.0</td>\n",
       "      <td>0.0</td>\n",
       "      <td>0.0</td>\n",
       "      <td>...</td>\n",
       "      <td>0.0</td>\n",
       "      <td>0.0</td>\n",
       "      <td>0.0</td>\n",
       "      <td>0.0</td>\n",
       "      <td>5676</td>\n",
       "      <td>9.454645</td>\n",
       "      <td>-0.259184</td>\n",
       "      <td>4.585165</td>\n",
       "      <td>2.817920</td>\n",
       "      <td>-6.180507</td>\n",
       "    </tr>\n",
       "    <tr>\n",
       "      <th>3711</th>\n",
       "      <td>41.0</td>\n",
       "      <td>3.9</td>\n",
       "      <td>0.0</td>\n",
       "      <td>0.0</td>\n",
       "      <td>0.0</td>\n",
       "      <td>0.0</td>\n",
       "      <td>0.0</td>\n",
       "      <td>0.0</td>\n",
       "      <td>0.0</td>\n",
       "      <td>0.0</td>\n",
       "      <td>...</td>\n",
       "      <td>0.0</td>\n",
       "      <td>0.0</td>\n",
       "      <td>0.0</td>\n",
       "      <td>0.0</td>\n",
       "      <td>1848</td>\n",
       "      <td>0.828867</td>\n",
       "      <td>0.088125</td>\n",
       "      <td>0.239208</td>\n",
       "      <td>0.402055</td>\n",
       "      <td>1.452376</td>\n",
       "    </tr>\n",
       "    <tr>\n",
       "      <th>20012</th>\n",
       "      <td>44.0</td>\n",
       "      <td>4.0</td>\n",
       "      <td>0.0</td>\n",
       "      <td>0.0</td>\n",
       "      <td>0.0</td>\n",
       "      <td>0.0</td>\n",
       "      <td>0.0</td>\n",
       "      <td>0.0</td>\n",
       "      <td>0.0</td>\n",
       "      <td>0.0</td>\n",
       "      <td>...</td>\n",
       "      <td>0.0</td>\n",
       "      <td>0.0</td>\n",
       "      <td>0.0</td>\n",
       "      <td>0.0</td>\n",
       "      <td>2194</td>\n",
       "      <td>0.263546</td>\n",
       "      <td>0.003758</td>\n",
       "      <td>0.085266</td>\n",
       "      <td>0.027552</td>\n",
       "      <td>0.087043</td>\n",
       "    </tr>\n",
       "    <tr>\n",
       "      <th>158</th>\n",
       "      <td>21.0</td>\n",
       "      <td>3.9</td>\n",
       "      <td>0.0</td>\n",
       "      <td>0.0</td>\n",
       "      <td>0.0</td>\n",
       "      <td>0.0</td>\n",
       "      <td>0.0</td>\n",
       "      <td>0.0</td>\n",
       "      <td>0.0</td>\n",
       "      <td>0.0</td>\n",
       "      <td>...</td>\n",
       "      <td>0.0</td>\n",
       "      <td>0.0</td>\n",
       "      <td>0.0</td>\n",
       "      <td>0.0</td>\n",
       "      <td>3876</td>\n",
       "      <td>0.225777</td>\n",
       "      <td>0.058781</td>\n",
       "      <td>0.064694</td>\n",
       "      <td>0.040563</td>\n",
       "      <td>0.276398</td>\n",
       "    </tr>\n",
       "    <tr>\n",
       "      <th>12635</th>\n",
       "      <td>19.0</td>\n",
       "      <td>4.2</td>\n",
       "      <td>0.0</td>\n",
       "      <td>0.0</td>\n",
       "      <td>0.0</td>\n",
       "      <td>0.0</td>\n",
       "      <td>0.0</td>\n",
       "      <td>0.0</td>\n",
       "      <td>0.0</td>\n",
       "      <td>0.0</td>\n",
       "      <td>...</td>\n",
       "      <td>0.0</td>\n",
       "      <td>0.0</td>\n",
       "      <td>0.0</td>\n",
       "      <td>0.0</td>\n",
       "      <td>12117</td>\n",
       "      <td>0.136514</td>\n",
       "      <td>0.022889</td>\n",
       "      <td>0.039467</td>\n",
       "      <td>0.112000</td>\n",
       "      <td>0.343740</td>\n",
       "    </tr>\n",
       "  </tbody>\n",
       "</table>\n",
       "<p>5 rows × 194 columns</p>\n",
       "</div>"
      ],
      "text/plain": [
       "       index_x  avg_rating  19th  20th  21st  academic  adult  adventure  \\\n",
       "2137      32.0         4.0   0.0   0.0   0.0       0.0    0.0        0.0   \n",
       "3711      41.0         3.9   0.0   0.0   0.0       0.0    0.0        0.0   \n",
       "20012     44.0         4.0   0.0   0.0   0.0       0.0    0.0        0.0   \n",
       "158       21.0         3.9   0.0   0.0   0.0       0.0    0.0        0.0   \n",
       "12635     19.0         4.2   0.0   0.0   0.0       0.0    0.0        0.0   \n",
       "\n",
       "       africa  american  ...  war  womens  world  writing  index_y         0  \\\n",
       "2137      0.0       0.0  ...  0.0     0.0    0.0      0.0     5676  9.454645   \n",
       "3711      0.0       0.0  ...  0.0     0.0    0.0      0.0     1848  0.828867   \n",
       "20012     0.0       0.0  ...  0.0     0.0    0.0      0.0     2194  0.263546   \n",
       "158       0.0       0.0  ...  0.0     0.0    0.0      0.0     3876  0.225777   \n",
       "12635     0.0       0.0  ...  0.0     0.0    0.0      0.0    12117  0.136514   \n",
       "\n",
       "              1         2         3         4  \n",
       "2137  -0.259184  4.585165  2.817920 -6.180507  \n",
       "3711   0.088125  0.239208  0.402055  1.452376  \n",
       "20012  0.003758  0.085266  0.027552  0.087043  \n",
       "158    0.058781  0.064694  0.040563  0.276398  \n",
       "12635  0.022889  0.039467  0.112000  0.343740  \n",
       "\n",
       "[5 rows x 194 columns]"
      ]
     },
     "execution_count": 631,
     "metadata": {},
     "output_type": "execute_result"
    }
   ],
   "source": [
    "X_train.head()"
   ]
  },
  {
   "cell_type": "code",
   "execution_count": null,
   "metadata": {},
   "outputs": [],
   "source": [
    "# Without SVD:"
   ]
  },
  {
   "cell_type": "code",
   "execution_count": 481,
   "metadata": {},
   "outputs": [],
   "source": [
    "rfc=RandomForestRegressor(n_estimators=1000,max_depth=5, max_features='auto', n_jobs=-1)\n",
    "rfc.fit(X_train,y_train)\n",
    "y_pred=rfc.predict(X_test)\n",
    "\n",
    "print(f'MSE =  {mean_squared_error(y_pred,y_test)}')\n",
    "print(f'R2 = {r2_score(y_pred, y_test)}')\n",
    "\n",
    "# gbc=GradientBoostingRegressor()\n",
    "# gbc.fit(X_train,y_train)\n",
    "# y_pred=gbc.predict(X_test)\n",
    "# accuracy_score(y_pred,y_test)\n",
    "\n",
    "df_pred = pd.DataFrame(y_pred)\n",
    "df_test = pd.DataFrame(y_test)\n",
    "\n",
    "df_test.reset_index()\n",
    "df_test['Pred'] = y_pred[0]\n",
    "\n",
    "df_test.describe()"
   ]
  },
  {
   "cell_type": "code",
   "execution_count": 632,
   "metadata": {},
   "outputs": [],
   "source": [
    "# With SVD:"
   ]
  },
  {
   "cell_type": "code",
   "execution_count": 481,
   "metadata": {},
   "outputs": [],
   "source": [
    "rfc=RandomForestRegressor(n_estimators=1000,max_depth=5, max_features='auto', n_jobs=-1)\n",
    "rfc.fit(X_train,y_train)\n",
    "y_pred=rfc.predict(X_test)\n",
    "\n",
    "print(f'MSE =  {mean_squared_error(y_pred,y_test)}')\n",
    "print(f'R2 = {r2_score(y_pred, y_test)}')\n",
    "\n",
    "df_pred = pd.DataFrame(y_pred)\n",
    "df_test = pd.DataFrame(y_test)\n",
    "\n",
    "df_test.reset_index()\n",
    "df_test['Pred'] = y_pred[0]\n",
    "\n",
    "df_test.describe()"
   ]
  },
  {
   "cell_type": "code",
   "execution_count": null,
   "metadata": {},
   "outputs": [],
   "source": [
    "# rfc.predict(X_test)"
   ]
  },
  {
   "cell_type": "code",
   "execution_count": 635,
   "metadata": {},
   "outputs": [
    {
     "data": {
      "text/html": [
       "<div>\n",
       "<style scoped>\n",
       "    .dataframe tbody tr th:only-of-type {\n",
       "        vertical-align: middle;\n",
       "    }\n",
       "\n",
       "    .dataframe tbody tr th {\n",
       "        vertical-align: top;\n",
       "    }\n",
       "\n",
       "    .dataframe thead th {\n",
       "        text-align: right;\n",
       "    }\n",
       "</style>\n",
       "<table border=\"1\" class=\"dataframe\">\n",
       "  <thead>\n",
       "    <tr style=\"text-align: right;\">\n",
       "      <th></th>\n",
       "      <th>index_x</th>\n",
       "      <th>avg_rating</th>\n",
       "      <th>19th</th>\n",
       "      <th>20th</th>\n",
       "      <th>21st</th>\n",
       "      <th>academic</th>\n",
       "      <th>adult</th>\n",
       "      <th>adventure</th>\n",
       "      <th>africa</th>\n",
       "      <th>american</th>\n",
       "      <th>...</th>\n",
       "      <th>war</th>\n",
       "      <th>womens</th>\n",
       "      <th>world</th>\n",
       "      <th>writing</th>\n",
       "      <th>index_y</th>\n",
       "      <th>0</th>\n",
       "      <th>1</th>\n",
       "      <th>2</th>\n",
       "      <th>3</th>\n",
       "      <th>4</th>\n",
       "    </tr>\n",
       "  </thead>\n",
       "  <tbody>\n",
       "    <tr>\n",
       "      <th>14466</th>\n",
       "      <td>33.0</td>\n",
       "      <td>4.0</td>\n",
       "      <td>0.0</td>\n",
       "      <td>0.0</td>\n",
       "      <td>0.0</td>\n",
       "      <td>0.000000</td>\n",
       "      <td>0.000000</td>\n",
       "      <td>0.0</td>\n",
       "      <td>0.0</td>\n",
       "      <td>0.0</td>\n",
       "      <td>...</td>\n",
       "      <td>0.0</td>\n",
       "      <td>0.0</td>\n",
       "      <td>0.0</td>\n",
       "      <td>0.000000</td>\n",
       "      <td>3788</td>\n",
       "      <td>0.192330</td>\n",
       "      <td>0.033792</td>\n",
       "      <td>0.007854</td>\n",
       "      <td>0.007132</td>\n",
       "      <td>-0.073681</td>\n",
       "    </tr>\n",
       "    <tr>\n",
       "      <th>14916</th>\n",
       "      <td>18.0</td>\n",
       "      <td>4.0</td>\n",
       "      <td>0.0</td>\n",
       "      <td>0.0</td>\n",
       "      <td>0.0</td>\n",
       "      <td>0.348379</td>\n",
       "      <td>0.000000</td>\n",
       "      <td>0.0</td>\n",
       "      <td>0.0</td>\n",
       "      <td>0.0</td>\n",
       "      <td>...</td>\n",
       "      <td>0.0</td>\n",
       "      <td>0.0</td>\n",
       "      <td>0.0</td>\n",
       "      <td>0.000000</td>\n",
       "      <td>10924</td>\n",
       "      <td>0.016456</td>\n",
       "      <td>0.008767</td>\n",
       "      <td>0.019750</td>\n",
       "      <td>0.020787</td>\n",
       "      <td>0.028996</td>\n",
       "    </tr>\n",
       "    <tr>\n",
       "      <th>8177</th>\n",
       "      <td>27.0</td>\n",
       "      <td>4.2</td>\n",
       "      <td>0.0</td>\n",
       "      <td>0.0</td>\n",
       "      <td>0.0</td>\n",
       "      <td>0.000000</td>\n",
       "      <td>0.000000</td>\n",
       "      <td>0.0</td>\n",
       "      <td>0.0</td>\n",
       "      <td>0.0</td>\n",
       "      <td>...</td>\n",
       "      <td>0.0</td>\n",
       "      <td>0.0</td>\n",
       "      <td>0.0</td>\n",
       "      <td>0.000000</td>\n",
       "      <td>11547</td>\n",
       "      <td>0.160250</td>\n",
       "      <td>-0.002660</td>\n",
       "      <td>0.124062</td>\n",
       "      <td>0.019191</td>\n",
       "      <td>-0.152169</td>\n",
       "    </tr>\n",
       "    <tr>\n",
       "      <th>18925</th>\n",
       "      <td>11.0</td>\n",
       "      <td>4.1</td>\n",
       "      <td>0.0</td>\n",
       "      <td>0.0</td>\n",
       "      <td>0.0</td>\n",
       "      <td>0.000000</td>\n",
       "      <td>0.000000</td>\n",
       "      <td>0.0</td>\n",
       "      <td>0.0</td>\n",
       "      <td>0.0</td>\n",
       "      <td>...</td>\n",
       "      <td>0.0</td>\n",
       "      <td>0.0</td>\n",
       "      <td>0.0</td>\n",
       "      <td>0.000000</td>\n",
       "      <td>5931</td>\n",
       "      <td>0.040909</td>\n",
       "      <td>-0.008463</td>\n",
       "      <td>0.021125</td>\n",
       "      <td>0.061762</td>\n",
       "      <td>0.174223</td>\n",
       "    </tr>\n",
       "    <tr>\n",
       "      <th>5610</th>\n",
       "      <td>9.0</td>\n",
       "      <td>3.8</td>\n",
       "      <td>0.0</td>\n",
       "      <td>0.0</td>\n",
       "      <td>0.0</td>\n",
       "      <td>0.000000</td>\n",
       "      <td>0.000000</td>\n",
       "      <td>0.0</td>\n",
       "      <td>0.0</td>\n",
       "      <td>0.0</td>\n",
       "      <td>...</td>\n",
       "      <td>0.0</td>\n",
       "      <td>0.0</td>\n",
       "      <td>0.0</td>\n",
       "      <td>0.000000</td>\n",
       "      <td>10026</td>\n",
       "      <td>0.202833</td>\n",
       "      <td>-0.007743</td>\n",
       "      <td>0.060261</td>\n",
       "      <td>0.148803</td>\n",
       "      <td>0.376101</td>\n",
       "    </tr>\n",
       "    <tr>\n",
       "      <th>...</th>\n",
       "      <td>...</td>\n",
       "      <td>...</td>\n",
       "      <td>...</td>\n",
       "      <td>...</td>\n",
       "      <td>...</td>\n",
       "      <td>...</td>\n",
       "      <td>...</td>\n",
       "      <td>...</td>\n",
       "      <td>...</td>\n",
       "      <td>...</td>\n",
       "      <td>...</td>\n",
       "      <td>...</td>\n",
       "      <td>...</td>\n",
       "      <td>...</td>\n",
       "      <td>...</td>\n",
       "      <td>...</td>\n",
       "      <td>...</td>\n",
       "      <td>...</td>\n",
       "      <td>...</td>\n",
       "      <td>...</td>\n",
       "      <td>...</td>\n",
       "    </tr>\n",
       "    <tr>\n",
       "      <th>15958</th>\n",
       "      <td>43.0</td>\n",
       "      <td>4.1</td>\n",
       "      <td>0.0</td>\n",
       "      <td>0.0</td>\n",
       "      <td>0.0</td>\n",
       "      <td>0.000000</td>\n",
       "      <td>0.000000</td>\n",
       "      <td>0.0</td>\n",
       "      <td>0.0</td>\n",
       "      <td>0.0</td>\n",
       "      <td>...</td>\n",
       "      <td>0.0</td>\n",
       "      <td>0.0</td>\n",
       "      <td>0.0</td>\n",
       "      <td>0.365699</td>\n",
       "      <td>9480</td>\n",
       "      <td>0.407080</td>\n",
       "      <td>0.070342</td>\n",
       "      <td>0.124524</td>\n",
       "      <td>0.222818</td>\n",
       "      <td>0.380940</td>\n",
       "    </tr>\n",
       "    <tr>\n",
       "      <th>807</th>\n",
       "      <td>9.0</td>\n",
       "      <td>4.0</td>\n",
       "      <td>0.0</td>\n",
       "      <td>0.0</td>\n",
       "      <td>0.0</td>\n",
       "      <td>0.000000</td>\n",
       "      <td>0.254748</td>\n",
       "      <td>0.0</td>\n",
       "      <td>0.0</td>\n",
       "      <td>0.0</td>\n",
       "      <td>...</td>\n",
       "      <td>0.0</td>\n",
       "      <td>0.0</td>\n",
       "      <td>0.0</td>\n",
       "      <td>0.000000</td>\n",
       "      <td>2816</td>\n",
       "      <td>5.782952</td>\n",
       "      <td>0.377226</td>\n",
       "      <td>-3.399042</td>\n",
       "      <td>0.422128</td>\n",
       "      <td>-4.968830</td>\n",
       "    </tr>\n",
       "    <tr>\n",
       "      <th>2620</th>\n",
       "      <td>17.0</td>\n",
       "      <td>4.4</td>\n",
       "      <td>0.0</td>\n",
       "      <td>0.0</td>\n",
       "      <td>0.0</td>\n",
       "      <td>0.000000</td>\n",
       "      <td>0.000000</td>\n",
       "      <td>0.0</td>\n",
       "      <td>0.0</td>\n",
       "      <td>0.0</td>\n",
       "      <td>...</td>\n",
       "      <td>0.0</td>\n",
       "      <td>0.0</td>\n",
       "      <td>0.0</td>\n",
       "      <td>0.000000</td>\n",
       "      <td>6759</td>\n",
       "      <td>0.315508</td>\n",
       "      <td>0.003683</td>\n",
       "      <td>0.097574</td>\n",
       "      <td>0.227000</td>\n",
       "      <td>0.506375</td>\n",
       "    </tr>\n",
       "    <tr>\n",
       "      <th>7212</th>\n",
       "      <td>30.0</td>\n",
       "      <td>4.0</td>\n",
       "      <td>0.0</td>\n",
       "      <td>0.0</td>\n",
       "      <td>0.0</td>\n",
       "      <td>0.000000</td>\n",
       "      <td>0.000000</td>\n",
       "      <td>0.0</td>\n",
       "      <td>0.0</td>\n",
       "      <td>0.0</td>\n",
       "      <td>...</td>\n",
       "      <td>0.0</td>\n",
       "      <td>0.0</td>\n",
       "      <td>0.0</td>\n",
       "      <td>0.000000</td>\n",
       "      <td>11778</td>\n",
       "      <td>0.402372</td>\n",
       "      <td>0.154817</td>\n",
       "      <td>0.194839</td>\n",
       "      <td>0.126299</td>\n",
       "      <td>-0.083244</td>\n",
       "    </tr>\n",
       "    <tr>\n",
       "      <th>19539</th>\n",
       "      <td>32.0</td>\n",
       "      <td>4.1</td>\n",
       "      <td>0.0</td>\n",
       "      <td>0.0</td>\n",
       "      <td>0.0</td>\n",
       "      <td>0.000000</td>\n",
       "      <td>0.000000</td>\n",
       "      <td>0.0</td>\n",
       "      <td>0.0</td>\n",
       "      <td>0.0</td>\n",
       "      <td>...</td>\n",
       "      <td>0.0</td>\n",
       "      <td>0.0</td>\n",
       "      <td>0.0</td>\n",
       "      <td>0.000000</td>\n",
       "      <td>11324</td>\n",
       "      <td>0.383724</td>\n",
       "      <td>0.114813</td>\n",
       "      <td>0.144963</td>\n",
       "      <td>0.223082</td>\n",
       "      <td>0.152885</td>\n",
       "    </tr>\n",
       "  </tbody>\n",
       "</table>\n",
       "<p>4054 rows × 194 columns</p>\n",
       "</div>"
      ],
      "text/plain": [
       "       index_x  avg_rating  19th  20th  21st  academic     adult  adventure  \\\n",
       "14466     33.0         4.0   0.0   0.0   0.0  0.000000  0.000000        0.0   \n",
       "14916     18.0         4.0   0.0   0.0   0.0  0.348379  0.000000        0.0   \n",
       "8177      27.0         4.2   0.0   0.0   0.0  0.000000  0.000000        0.0   \n",
       "18925     11.0         4.1   0.0   0.0   0.0  0.000000  0.000000        0.0   \n",
       "5610       9.0         3.8   0.0   0.0   0.0  0.000000  0.000000        0.0   \n",
       "...        ...         ...   ...   ...   ...       ...       ...        ...   \n",
       "15958     43.0         4.1   0.0   0.0   0.0  0.000000  0.000000        0.0   \n",
       "807        9.0         4.0   0.0   0.0   0.0  0.000000  0.254748        0.0   \n",
       "2620      17.0         4.4   0.0   0.0   0.0  0.000000  0.000000        0.0   \n",
       "7212      30.0         4.0   0.0   0.0   0.0  0.000000  0.000000        0.0   \n",
       "19539     32.0         4.1   0.0   0.0   0.0  0.000000  0.000000        0.0   \n",
       "\n",
       "       africa  american  ...  war  womens  world   writing  index_y         0  \\\n",
       "14466     0.0       0.0  ...  0.0     0.0    0.0  0.000000     3788  0.192330   \n",
       "14916     0.0       0.0  ...  0.0     0.0    0.0  0.000000    10924  0.016456   \n",
       "8177      0.0       0.0  ...  0.0     0.0    0.0  0.000000    11547  0.160250   \n",
       "18925     0.0       0.0  ...  0.0     0.0    0.0  0.000000     5931  0.040909   \n",
       "5610      0.0       0.0  ...  0.0     0.0    0.0  0.000000    10026  0.202833   \n",
       "...       ...       ...  ...  ...     ...    ...       ...      ...       ...   \n",
       "15958     0.0       0.0  ...  0.0     0.0    0.0  0.365699     9480  0.407080   \n",
       "807       0.0       0.0  ...  0.0     0.0    0.0  0.000000     2816  5.782952   \n",
       "2620      0.0       0.0  ...  0.0     0.0    0.0  0.000000     6759  0.315508   \n",
       "7212      0.0       0.0  ...  0.0     0.0    0.0  0.000000    11778  0.402372   \n",
       "19539     0.0       0.0  ...  0.0     0.0    0.0  0.000000    11324  0.383724   \n",
       "\n",
       "              1         2         3         4  \n",
       "14466  0.033792  0.007854  0.007132 -0.073681  \n",
       "14916  0.008767  0.019750  0.020787  0.028996  \n",
       "8177  -0.002660  0.124062  0.019191 -0.152169  \n",
       "18925 -0.008463  0.021125  0.061762  0.174223  \n",
       "5610  -0.007743  0.060261  0.148803  0.376101  \n",
       "...         ...       ...       ...       ...  \n",
       "15958  0.070342  0.124524  0.222818  0.380940  \n",
       "807    0.377226 -3.399042  0.422128 -4.968830  \n",
       "2620   0.003683  0.097574  0.227000  0.506375  \n",
       "7212   0.154817  0.194839  0.126299 -0.083244  \n",
       "19539  0.114813  0.144963  0.223082  0.152885  \n",
       "\n",
       "[4054 rows x 194 columns]"
      ]
     },
     "execution_count": 635,
     "metadata": {},
     "output_type": "execute_result"
    }
   ],
   "source": [
    "X_test"
   ]
  },
  {
   "cell_type": "markdown",
   "metadata": {},
   "source": [
    "### Train the model on whole dataset:"
   ]
  },
  {
   "cell_type": "code",
   "execution_count": 637,
   "metadata": {},
   "outputs": [],
   "source": [
    "user_isbn_data = X[['UserID', 'ISBN']]\n",
    "X = X.drop(columns=['UserID', 'ISBN'])"
   ]
  },
  {
   "cell_type": "code",
   "execution_count": null,
   "metadata": {},
   "outputs": [],
   "source": [
    "rfr=RandomForestRegressor(n_estimators=1000,max_depth=5, max_features='auto', n_jobs=-1)\n",
    "rfr.fit(X,y)"
   ]
  },
  {
   "cell_type": "code",
   "execution_count": null,
   "metadata": {},
   "outputs": [],
   "source": [
    "y_pred=rfr.predict(X_test)\n",
    "\n",
    "print(f'MSE =  {mean_squared_error(y_pred,y_test)}')\n",
    "print(f'R2 = {r2_score(y_pred, y_test)}')\n",
    "\n",
    "df_pred = pd.DataFrame(y_pred)\n",
    "df_test = pd.DataFrame(y_test)\n",
    "\n",
    "df_test.reset_index()\n",
    "df_test['Pred'] = y_pred[0]\n",
    "\n",
    "df_test.describe()"
   ]
  },
  {
   "cell_type": "code",
   "execution_count": 638,
   "metadata": {},
   "outputs": [
    {
     "data": {
      "text/html": [
       "<div>\n",
       "<style scoped>\n",
       "    .dataframe tbody tr th:only-of-type {\n",
       "        vertical-align: middle;\n",
       "    }\n",
       "\n",
       "    .dataframe tbody tr th {\n",
       "        vertical-align: top;\n",
       "    }\n",
       "\n",
       "    .dataframe thead th {\n",
       "        text-align: right;\n",
       "    }\n",
       "</style>\n",
       "<table border=\"1\" class=\"dataframe\">\n",
       "  <thead>\n",
       "    <tr style=\"text-align: right;\">\n",
       "      <th></th>\n",
       "      <th>UserID</th>\n",
       "      <th>ISBN</th>\n",
       "    </tr>\n",
       "  </thead>\n",
       "  <tbody>\n",
       "    <tr>\n",
       "      <th>0</th>\n",
       "      <td>510</td>\n",
       "      <td>1400063515</td>\n",
       "    </tr>\n",
       "    <tr>\n",
       "      <th>1</th>\n",
       "      <td>4433</td>\n",
       "      <td>1400063515</td>\n",
       "    </tr>\n",
       "    <tr>\n",
       "      <th>2</th>\n",
       "      <td>206</td>\n",
       "      <td>1400063515</td>\n",
       "    </tr>\n",
       "    <tr>\n",
       "      <th>3</th>\n",
       "      <td>11120</td>\n",
       "      <td>1400063515</td>\n",
       "    </tr>\n",
       "    <tr>\n",
       "      <th>4</th>\n",
       "      <td>8888</td>\n",
       "      <td>1400063515</td>\n",
       "    </tr>\n",
       "    <tr>\n",
       "      <th>...</th>\n",
       "      <td>...</td>\n",
       "      <td>...</td>\n",
       "    </tr>\n",
       "    <tr>\n",
       "      <th>20262</th>\n",
       "      <td>7664</td>\n",
       "      <td>1439192812</td>\n",
       "    </tr>\n",
       "    <tr>\n",
       "      <th>20263</th>\n",
       "      <td>9605</td>\n",
       "      <td>1439192812</td>\n",
       "    </tr>\n",
       "    <tr>\n",
       "      <th>20264</th>\n",
       "      <td>969</td>\n",
       "      <td>1439192812</td>\n",
       "    </tr>\n",
       "    <tr>\n",
       "      <th>20265</th>\n",
       "      <td>8843</td>\n",
       "      <td>1439192812</td>\n",
       "    </tr>\n",
       "    <tr>\n",
       "      <th>20266</th>\n",
       "      <td>4892</td>\n",
       "      <td>1439192812</td>\n",
       "    </tr>\n",
       "  </tbody>\n",
       "</table>\n",
       "<p>20267 rows × 2 columns</p>\n",
       "</div>"
      ],
      "text/plain": [
       "       UserID        ISBN\n",
       "0         510  1400063515\n",
       "1        4433  1400063515\n",
       "2         206  1400063515\n",
       "3       11120  1400063515\n",
       "4        8888  1400063515\n",
       "...       ...         ...\n",
       "20262    7664  1439192812\n",
       "20263    9605  1439192812\n",
       "20264     969  1439192812\n",
       "20265    8843  1439192812\n",
       "20266    4892  1439192812\n",
       "\n",
       "[20267 rows x 2 columns]"
      ]
     },
     "execution_count": 638,
     "metadata": {},
     "output_type": "execute_result"
    }
   ],
   "source": [
    "user_isbn_data"
   ]
  },
  {
   "cell_type": "code",
   "execution_count": 649,
   "metadata": {},
   "outputs": [],
   "source": [
    "pairs = []\n",
    "for user  in users:\n",
    "    for book in books:\n",
    "        dct = {}\n",
    "        dct['UserID'] = user\n",
    "        dct['ISBN'] = book\n",
    "        pairs.append(dct)"
   ]
  },
  {
   "cell_type": "code",
   "execution_count": 652,
   "metadata": {},
   "outputs": [],
   "source": [
    "all_df = pd.DataFrame(pairs)"
   ]
  }
 ],
 "metadata": {
  "kernelspec": {
   "display_name": "Python 3",
   "language": "python",
   "name": "python3"
  },
  "language_info": {
   "codemirror_mode": {
    "name": "ipython",
    "version": 3
   },
   "file_extension": ".py",
   "mimetype": "text/x-python",
   "name": "python",
   "nbconvert_exporter": "python",
   "pygments_lexer": "ipython3",
   "version": "3.7.7"
  }
 },
 "nbformat": 4,
 "nbformat_minor": 4
}
